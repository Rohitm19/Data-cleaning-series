{
 "cells": [
  {
   "cell_type": "markdown",
   "metadata": {},
   "source": [
    "1.1: Introduction to Missing Data\n",
    "\n",
    "Objective:\n",
    "Understand the different types of missing data and their implications for data analysis.\n",
    "\n",
    "Research and Understand the Different Types of Missing Data:\n",
    "\n",
    "1. Missing Completely at Random (MCAR):\n",
    "Definition: The likelihood of a value being missing is independent of both observed and unobserved data. Missingness is purely random.\n",
    "Example: A survey where some participants accidentally skip a question, and this skipping is unrelated to their answers on other questions. For instance, a survey on customer satisfaction where a few respondents accidentally leave the “satisfaction with customer service” question blank, regardless of their overall satisfaction.\n",
    "\n",
    "2. Missing at Random (MAR):\n",
    "Definition: The probability of a value being missing is related to other observed variables but not to the missing value itself.\n",
    "Example: In a dataset of patient health records, older patients may be less likely to report their income. Here, the missingness of income data is related to the age of the patient but not to the income value itself. For example, a dataset where younger patients report their income more frequently than older patients.\n",
    "\n",
    "3. Not Missing at Random (NMAR):\n",
    "Definition: The probability of a value being missing is related to the missing value itself. This is the most challenging type to handle.\n",
    "Example: In a dataset of income levels, high-income individuals may be less likely to report their income due to privacy concerns. Thus, the missingness is related to the income value itself. For instance, a financial survey where individuals with higher incomes are less likely to disclose their earnings.\n",
    "\n",
    "Explore Examples:\n",
    "\n",
    "1. MCAR Example:\n",
    "Scenario: You have a dataset from an online quiz where some answers are missing randomly because of user errors or technical issues. For example, in a dataset of quiz responses, some answers are missing because users accidentally skipped questions.\n",
    "Example Dataset: A dataset from an online educational platform where user responses to certain questions are missing randomly.\n",
    "\n",
    "2. MAR Example:\n",
    "Scenario: In a dataset of patient health records, older patients are less likely to report their income. The missing income data is related to the patient’s age but not to the income value itself.\n",
    "Example Dataset: A dataset from a health survey where missing income data is more common among older patients.\n",
    "\n",
    "3. NMAR Example:\n",
    "Scenario: A dataset on income levels where high-income individuals are less likely to report their income due to privacy concerns. The missing data is related to the income value itself.\n",
    "Example Dataset: A financial survey dataset where individuals with higher incomes are less likely to disclose their earnings.\n",
    "\n",
    "Resources:\n",
    "1. Wikipedia: Missing Data: Provides a general overview of missing data types and strategies for handling them.\n",
    "2. Introduction to Missing Data by Paul Allison: An informative guide on missing data, including types and handling methods."
   ]
  }
 ],
 "metadata": {
  "language_info": {
   "name": "python"
  }
 },
 "nbformat": 4,
 "nbformat_minor": 2
}
