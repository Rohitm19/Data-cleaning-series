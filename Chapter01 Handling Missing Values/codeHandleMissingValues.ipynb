{
 "cells": [
  {
   "cell_type": "markdown",
   "metadata": {},
   "source": [
    "1.1: Introduction to Missing Data\n",
    "\n",
    "Objective:\n",
    "Understand the different types of missing data and their implications for data analysis.\n",
    "\n",
    "Research and Understand the Different Types of Missing Data:\n",
    "\n",
    "1. Missing Completely at Random (MCAR):\n",
    "Definition: The likelihood of a value being missing is independent of both observed and unobserved data. Missingness is purely random.\n",
    "Scenario: You have a dataset from an online quiz where some answers are missing randomly because of user errors or technical issues. For example, in a dataset of quiz responses, some answers are missing because users accidentally skipped questions.\n",
    "Example: A survey where some participants accidentally skip a question, and this skipping is unrelated to their answers on other questions. For instance, a survey on customer satisfaction where a few respondents accidentally leave the “satisfaction with customer service” question blank, regardless of their overall satisfaction.\n",
    "\n",
    "2. Missing at Random (MAR):\n",
    "Definition: The probability of a value being missing is related to other observed variables but not to the missing value itself.\n",
    "Scenario: In a dataset of patient health records, older patients are less likely to report their income. The missing income data is related to the patient’s age but not to the income value itself.\n",
    "Example: In a dataset of patient health records, older patients may be less likely to report their income. Here, the missingness of income data is related to the age of the patient but not to the income value itself. For example, a dataset where younger patients report their income more frequently than older patients.\n",
    "\n",
    "3. Not Missing at Random (NMAR):\n",
    "Definition: The probability of a value being missing is related to the missing value itself. This is the most challenging type to handle.\n",
    "Scenario: A dataset on income levels where high-income individuals are less likely to report their income due to privacy concerns. The missing data is related to the income value itself.\n",
    "Example: In a dataset of income levels, high-income individuals may be less likely to report their income due to privacy concerns. Thus, the missingness is related to the income value itself. For instance, a financial survey where individuals with higher incomes are less likely to disclose their earnings.\n",
    "\n",
    "Explore Examples:\n",
    "\n",
    "1. MCAR Example:\n",
    "Scenario: You have a dataset from an online quiz where some answers are missing randomly because of user errors or technical issues. For example, in a dataset of quiz responses, some answers are missing because users accidentally skipped questions.\n",
    "Example Dataset: A dataset from an online educational platform where user responses to certain questions are missing randomly.\n",
    "\n",
    "2. MAR Example:\n",
    "Scenario: In a dataset of patient health records, older patients are less likely to report their income. The missing income data is related to the patient’s age but not to the income value itself.\n",
    "Example Dataset: A dataset from a health survey where missing income data is more common among older patients.\n",
    "\n",
    "3. NMAR Example:\n",
    "Scenario: A dataset on income levels where high-income individuals are less likely to report their income due to privacy concerns. The missing data is related to the income value itself.\n",
    "Example Dataset: A financial survey dataset where individuals with higher incomes are less likely to disclose their earnings.\n",
    "\n",
    "Resources:\n",
    "1. Wikipedia: Missing Data: Provides a general overview of missing data types and strategies for handling them.\n",
    "2. Introduction to Missing Data by Paul Allison: An informative guide on missing data, including types and handling methods."
   ]
  },
  {
   "cell_type": "code",
   "execution_count": 47,
   "metadata": {},
   "outputs": [
    {
     "name": "stdout",
     "output_type": "stream",
     "text": [
      "   Product ID Product Name  Price     Category  Stock            Description\n",
      "0           1     Widget A  19.99  Electronics  100.0  A high-quality widget\n",
      "1           2     Widget B  29.99  Electronics    NaN                    NaN\n",
      "2           3          NaN  15.00   Home Goods   50.0    Durable and stylish\n",
      "3           4     Widget D    NaN   Home Goods  200.0     A versatile widget\n",
      "4           5     Widget E   9.99          NaN   10.0  Compact and efficient\n"
     ]
    }
   ],
   "source": [
    "import pandas as pd\n",
    "import numpy as np\n",
    "import matplotlib.pyplot as plt\n",
    "import seaborn as sns\n",
    "\n",
    "# Load the data from the CSV file\n",
    "df = pd.read_csv('D:/Projects/Data-cleaning-series/Chapter01 Handling Missing Values/Products.csv')\n",
    "\n",
    "# Display the first few rows of the DataFrame\n",
    "print(df.head())"
   ]
  },
  {
   "cell_type": "code",
   "execution_count": 48,
   "metadata": {},
   "outputs": [
    {
     "data": {
      "image/png": "[encoded data removed]",
      "text/plain": [
       "<Figure size 1000x600 with 1 Axes>"
      ]
     },
     "metadata": {},
     "output_type": "display_data"
    }
   ],
   "source": [
    "# Visualize missing values using a heatmap\n",
    "plt.figure(figsize=(10, 6))\n",
    "sns.heatmap(df.isnull(), cbar=False, cmap='viridis')\n",
    "plt.title('Missing Values in the Dataset')\n",
    "plt.show()"
   ]
  },
  {
   "cell_type": "markdown",
   "metadata": {},
   "source": [
    "1.3 Techniques to handle the missing values\n",
    "Techniques\n",
    "\n",
    "A. Removal Techniques:\n",
    "1. Listwise Deletion:\n",
    "Description: Remove rows where any value is missing. This technique is straightforward but can result in a significant loss of data if many rows have missing values.\n",
    "Example: df.dropna()\n",
    "\n",
    "2. Pairwise Deletion:\n",
    "Description: Use available data for each pair of variables in analysis, ignoring missing values for that pair. This method is useful in correlation or covariance calculations.\n",
    "Example: df.corr(method='pearson', min_periods=1)\n",
    "\n",
    "B. Imputation Techniques:\n",
    "1. Mean/Median/Mode Imputation:\n",
    "Description: Replace missing values with the mean (for numerical data), median (for numerical data with outliers), or mode (for categorical data) of the observed values.\n",
    "Example: df.fillna(df.mean()) (Mean), df.fillna(df.median()) (Median)\n",
    "\n",
    "2. K-Nearest Neighbors (KNN) Imputation:\n",
    "Description: Use the K-nearest neighbors algorithm to estimate missing values based on the values of the nearest neighbors.\n",
    "Example: from sklearn.impute import KNNImputer (Python)\n",
    "\n",
    "3. Multiple Imputation by Chained Equations (MICE):\n",
    "Description: Use multiple imputations to handle missing values by modeling each feature with missing data conditional on other features. Combines multiple imputation models to account for uncertainty.\n",
    "Example: from miceforest import ImputationKernel (Python)\n",
    "\n",
    "4. Predictive Modeling:\n",
    "Description: Use regression or other predictive models to estimate missing values based on other available data.\n",
    "Example: from sklearn.linear_model import LinearRegression (Python)\n",
    "\n",
    "D. Advanced Techniques:\n",
    "1. Interpolation:\n",
    "Description: Estimate missing values based on the values of neighboring data points. Useful for time series data where values are missing at specific time points.\n",
    "Example: df.interpolate(method='linear')\n",
    "\n",
    "2. Data Augmentation:\n",
    "Description: Generate additional data to fill in missing values. This technique can be used in conjunction with machine learning models.\n",
    "Example: Using generative models or synthetic data methods.\n",
    "\n",
    "E. Handling Categorical Data:\n",
    "1. Mode Imputation:\n",
    "Description: Replace missing values in categorical variables with the most frequent category.\n",
    "Example: df['category'].fillna(df['category'].mode()[0])\n",
    "\n",
    "2. Categorical Encoding:\n",
    "Description: Replace missing categories with a special placeholder or encode missing values as a separate category.\n",
    "Example: df['category'].fillna('Missing')"
   ]
  },
  {
   "cell_type": "code",
   "execution_count": 49,
   "metadata": {},
   "outputs": [
    {
     "name": "stdout",
     "output_type": "stream",
     "text": [
      "\n",
      "DataFrame after Listwise Deletion:\n",
      " Product ID Product Name  Price    Category  Stock              Description\n",
      "          1     Widget A  19.99 Electronics  100.0    A high-quality widget\n",
      "          6     Widget F  25.00 Electronics    0.0 Latest technology widget\n",
      "          8     Widget H  39.99     Kitchen   75.0          Premium quality\n",
      "         10     Widget J  49.99 Electronics   60.0            Best in class\n"
     ]
    }
   ],
   "source": [
    "# Listwise Deletion: Remove rows with any missing data\n",
    "listwise_deleted_df = df.dropna()\n",
    "\n",
    "print(\"\\nDataFrame after Listwise Deletion:\")\n",
    "print(listwise_deleted_df.to_string(index=False))\n"
   ]
  },
  {
   "cell_type": "code",
   "execution_count": 50,
   "metadata": {},
   "outputs": [
    {
     "name": "stdout",
     "output_type": "stream",
     "text": [
      "\n",
      "DataFrame after Pairwise Deletion (on 'Price' and 'Stock'):\n",
      " Product ID Product Name  Price    Category  Stock              Description\n",
      "          1     Widget A  19.99 Electronics  100.0    A high-quality widget\n",
      "          3          NaN  15.00  Home Goods   50.0      Durable and stylish\n",
      "          5     Widget E   9.99         NaN   10.0    Compact and efficient\n",
      "          6     Widget F  25.00 Electronics    0.0 Latest technology widget\n",
      "          8     Widget H  39.99     Kitchen   75.0          Premium quality\n",
      "         10     Widget J  49.99 Electronics   60.0            Best in class\n"
     ]
    }
   ],
   "source": [
    "# Pairwise Deletion: Remove rows with missing data in specific columns, e.g., 'Price' and 'Stock'\n",
    "pairwise_deleted_df = df.dropna(subset=['Price', 'Stock'])\n",
    "\n",
    "print(\"\\nDataFrame after Pairwise Deletion (on 'Price' and 'Stock'):\")\n",
    "print(pairwise_deleted_df.to_string(index=False))"
   ]
  },
  {
   "cell_type": "code",
   "execution_count": 51,
   "metadata": {},
   "outputs": [
    {
     "name": "stdout",
     "output_type": "stream",
     "text": [
      "\n",
      "DataFrame after Mean Imputation:\n",
      " Product ID Product Name     Price    Category   Stock              Description\n",
      "          1     Widget A 19.990000 Electronics 100.000    A high-quality widget\n",
      "          2     Widget B 29.990000 Electronics  80.625                      NaN\n",
      "          3          NaN 15.000000  Home Goods  50.000      Durable and stylish\n",
      "          4     Widget D 27.135714  Home Goods 200.000       A versatile widget\n",
      "          5     Widget E  9.990000         NaN  10.000    Compact and efficient\n",
      "          6     Widget F 25.000000 Electronics   0.000 Latest technology widget\n",
      "          7     Widget G 27.135714     Kitchen 150.000     Multi-purpose widget\n",
      "          8     Widget H 39.990000     Kitchen  75.000          Premium quality\n",
      "          9     Widget I 27.135714 Electronics  80.625        Advanced features\n",
      "         10     Widget J 49.990000 Electronics  60.000            Best in class\n"
     ]
    }
   ],
   "source": [
    "# Mean Imputation: Replace missing numerical values with the mean of the column\n",
    "df_mean_imputed = df.copy()\n",
    "df_mean_imputed['Price'] = df_mean_imputed['Price'].fillna(df['Price'].mean())\n",
    "df_mean_imputed['Stock'] = df_mean_imputed['Stock'].fillna(df['Stock'].mean())\n",
    "\n",
    "print(\"\\nDataFrame after Mean Imputation:\")\n",
    "print(df_mean_imputed.to_string(index=False))"
   ]
  },
  {
   "cell_type": "code",
   "execution_count": 52,
   "metadata": {},
   "outputs": [
    {
     "name": "stdout",
     "output_type": "stream",
     "text": [
      "\n",
      "DataFrame after Median Imputation:\n",
      " Product ID Product Name  Price    Category  Stock              Description\n",
      "          1     Widget A  19.99 Electronics  100.0    A high-quality widget\n",
      "          2     Widget B  29.99 Electronics   67.5                      NaN\n",
      "          3          NaN  15.00  Home Goods   50.0      Durable and stylish\n",
      "          4     Widget D  25.00  Home Goods  200.0       A versatile widget\n",
      "          5     Widget E   9.99         NaN   10.0    Compact and efficient\n",
      "          6     Widget F  25.00 Electronics    0.0 Latest technology widget\n",
      "          7     Widget G  25.00     Kitchen  150.0     Multi-purpose widget\n",
      "          8     Widget H  39.99     Kitchen   75.0          Premium quality\n",
      "          9     Widget I  25.00 Electronics   67.5        Advanced features\n",
      "         10     Widget J  49.99 Electronics   60.0            Best in class\n"
     ]
    }
   ],
   "source": [
    "# Median Imputation: Replace missing numerical values with the median of the column\n",
    "df_median_imputed = df.copy()\n",
    "df_median_imputed['Price'] = df_median_imputed['Price'].fillna(df['Price'].median())\n",
    "df_median_imputed['Stock'] = df_median_imputed['Stock'].fillna(df['Stock'].median())\n",
    "\n",
    "print(\"\\nDataFrame after Median Imputation:\")\n",
    "print(df_median_imputed.to_string(index=False))\n"
   ]
  },
  {
   "cell_type": "code",
   "execution_count": 53,
   "metadata": {},
   "outputs": [
    {
     "name": "stdout",
     "output_type": "stream",
     "text": [
      "\n",
      "DataFrame after Mode Imputation:\n",
      " Product ID Product Name  Price    Category  Stock              Description\n",
      "          1     Widget A  19.99 Electronics  100.0    A high-quality widget\n",
      "          2     Widget B  29.99 Electronics    NaN    A high-quality widget\n",
      "          3     Widget A  15.00  Home Goods   50.0      Durable and stylish\n",
      "          4     Widget D    NaN  Home Goods  200.0       A versatile widget\n",
      "          5     Widget E   9.99 Electronics   10.0    Compact and efficient\n",
      "          6     Widget F  25.00 Electronics    0.0 Latest technology widget\n",
      "          7     Widget G    NaN     Kitchen  150.0     Multi-purpose widget\n",
      "          8     Widget H  39.99     Kitchen   75.0          Premium quality\n",
      "          9     Widget I    NaN Electronics    NaN        Advanced features\n",
      "         10     Widget J  49.99 Electronics   60.0            Best in class\n"
     ]
    }
   ],
   "source": [
    "# Mode Imputation: Replace missing categorical values with the mode of the column\n",
    "df_mode_imputed = df.copy()\n",
    "df_mode_imputed['Product Name'] = df_mode_imputed['Product Name'].fillna(df['Product Name'].mode()[0])\n",
    "df_mode_imputed['Category'] = df_mode_imputed['Category'].fillna(df['Category'].mode()[0])\n",
    "df_mode_imputed['Description'] = df_mode_imputed['Description'].fillna(df['Description'].mode()[0])\n",
    "\n",
    "print(\"\\nDataFrame after Mode Imputation:\")\n",
    "print(df_mode_imputed.to_string(index=False))\n"
   ]
  },
  {
   "cell_type": "code",
   "execution_count": 54,
   "metadata": {},
   "outputs": [
    {
     "name": "stdout",
     "output_type": "stream",
     "text": [
      "\n",
      "DataFrame after KNN Imputation:\n",
      " Product ID Product Name     Price    Category      Stock              Description\n",
      "          1     Widget A 19.990000 Electronics 100.000000    A high-quality widget\n",
      "          2     Widget B 29.990000 Electronics  58.333333                      NaN\n",
      "          3          NaN 15.000000  Home Goods  50.000000      Durable and stylish\n",
      "          4     Widget D 36.656667  Home Goods 200.000000       A versatile widget\n",
      "          5     Widget E  9.990000         NaN  10.000000    Compact and efficient\n",
      "          6     Widget F 25.000000 Electronics   0.000000 Latest technology widget\n",
      "          7     Widget G 36.656667     Kitchen 150.000000     Multi-purpose widget\n",
      "          8     Widget H 39.990000     Kitchen  75.000000          Premium quality\n",
      "          9     Widget I 27.135714 Electronics  80.625000        Advanced features\n",
      "         10     Widget J 49.990000 Electronics  60.000000            Best in class\n"
     ]
    }
   ],
   "source": [
    "#K-Nearest Neighbors (KNN) Imputation\n",
    "from sklearn.impute import KNNImputer\n",
    "\n",
    "# KNN Imputation\n",
    "# We need to convert categorical data to numeric for KNNImputer to work\n",
    "# Encoding categorical variables\n",
    "df_encoded = pd.get_dummies(df[['Price', 'Stock']], drop_first=True)\n",
    "\n",
    "# Applying KNN Imputer\n",
    "imputer = KNNImputer(n_neighbors=3)\n",
    "df_imputed = df_encoded.copy()\n",
    "df_imputed[:] = imputer.fit_transform(df_encoded)\n",
    "\n",
    "# Mapping back to original DataFrame\n",
    "df[['Price', 'Stock']] = df_imputed\n",
    "\n",
    "print(\"\\nDataFrame after KNN Imputation:\")\n",
    "print(df.to_string(index=False))"
   ]
  },
  {
   "cell_type": "markdown",
   "metadata": {},
   "source": [
    "Explanation\n",
    "Encoding Categorical Variables:\n",
    "\n",
    "Before applying KNN imputation, categorical data needs to be encoded into numeric values. Here, we only encode the numerical columns ('Price' and 'Stock') for simplicity.\n",
    "Applying KNN Imputer:\n",
    "\n",
    "We use KNNImputer from sklearn.impute to perform imputation based on the nearest neighbors. The n_neighbors parameter specifies the number of neighbors to use for imputation.\n",
    "Mapping Back:\n",
    "\n",
    "After imputation, we update the original DataFrame with the imputed values.\n",
    "Output\n",
    "The code will output the DataFrame with missing values in 'Price' and 'Stock' columns filled based on the values of their nearest neighbors.\n",
    "\n",
    "This technique is useful when you believe that missing data can be inferred from similar instances in the dataset. However, it requires all features to be numeric, so categorical variables need to be encoded or handled separately."
   ]
  }
 ],
 "metadata": {
  "language_info": {
   "name": "python"
  }
 },
 "nbformat": 4,
 "nbformat_minor": 2
}
