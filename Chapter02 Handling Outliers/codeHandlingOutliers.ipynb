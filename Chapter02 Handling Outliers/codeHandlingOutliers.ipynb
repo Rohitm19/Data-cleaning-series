{
 "cells": [
  {
   "cell_type": "markdown",
   "metadata": {},
   "source": [
    "2.1 Introduction to Outliers\n",
    "Introduction:\n",
    "Outliers are data points that significantly differ from other observations in a dataset. They may occur due to variability in the data, measurement errors, or special cases that represent significant deviations from the norm. Properly identifying and handling outliers is crucial for accurate data analysis and modeling, as they can skew results and impact the performance of statistical models.\n",
    "\n",
    "Importance of Handling Outliers:\n",
    "\n",
    "Impact on Statistical Measures: Outliers can affect mean, variance, and other statistical measures, leading to misleading conclusions.\n",
    "Model Performance: Outliers can distort the training of machine learning models, leading to poor performance or inaccurate predictions.\n",
    "Data Integrity: Handling outliers ensures the dataset reflects true patterns and trends, enhancing the reliability of analyses and results.\n",
    "Types of Outliers:\n",
    "\n",
    "Univariate Outliers: Deviations in a single variable. Example: A temperature reading of 100°C in a dataset where most temperatures are between 20°C and 30°C.\n",
    "Multivariate Outliers: Deviations that occur in the context of multiple variables. Example: A combination of age and income that is far outside the normal range for a population.\n",
    "Common Causes of Outliers:\n",
    "\n",
    "Measurement Errors: Errors in data collection or entry.\n",
    "Data Entry Errors: Typographical errors or incorrect data input.\n",
    "Variability in the Data: Natural variations in data, especially in large datasets.\n",
    "Special Cases: Genuine cases that are distinct from the norm but valid. For example, a high-value transaction in a financial dataset might be an outlier but not an error.\n",
    "Approaches to Handling Outliers:\n",
    "\n",
    "Identification: Use statistical methods, visualizations, and domain knowledge to identify outliers.\n",
    "Handling: Depending on the context, outliers can be removed, transformed, or capped to reduce their impact on analyses and models.\n"
   ]
  },
  {
   "cell_type": "markdown",
   "metadata": {},
   "source": [
    "2.2 Definition\n",
    "Outliers: Outliers are data points that significantly differ from the majority of the data. They can arise from variability in the data or may indicate measurement errors. Proper handling of outliers is crucial as they can skew statistical analyses and models.\n",
    "\n",
    "Goals\n",
    "Identify Outliers: Detect outliers using various statistical methods and visualization techniques.\n",
    "Handle Outliers: Decide on methods to manage outliers, including removal, transformation, or capping.\n",
    "\n",
    "Description\n",
    "Handling outliers involves identifying data points that deviate significantly from the rest of the data and deciding on appropriate actions to manage them. Common techniques include statistical methods (Z-score, IQR), visual methods (box plots), and more advanced methods (robust statistics)."
   ]
  },
  {
   "cell_type": "markdown",
   "metadata": {},
   "source": [
    "2.3 Techniques\n",
    "\n",
    "1. Z-Score Method\n",
    "   - Description: Calculates the Z-score for each data point to determine how many standard deviations away from the mean a data point is. Data points with Z-scores beyond a certain threshold (e.g., ±3) are considered outliers.\n",
    "   - Example: df['column'].apply(lambda x: (x - mean) / std)\n",
    "\n",
    "2. Interquartile Range (IQR) Method\n",
    "   - Description: Identifies outliers based on the interquartile range (IQR). Data points outside 1.5 * IQR from the Q1 (25th percentile) or Q3 (75th percentile) are considered outliers.\n",
    "   - Example: df[(df['column'] < (Q1 - 1.5 * IQR)) | (df['column'] > (Q3 + 1.5 * IQR))]\n",
    "\n",
    "3. Box Plot Visualization\n",
    "   - Description: Uses box plots to visually identify outliers as points outside the \"whiskers\" of the plot.\n",
    "   - Example: sns.boxplot(x=df['column'])\n",
    "\n",
    "4. Capping (Winsorization)\n",
    "   - Description: Limits extreme values to a specified percentile range to reduce the impact of outliers.\n",
    "   - Example: df['column'] = np.where(df['column'] > upper_limit, upper_limit, df['column'])\n",
    "\n",
    "5. Transformation\n",
    "   - Description: Applies transformations like logarithmic or square root to reduce the effect of outliers.\n",
    "   - Example: df['column'] = np.log1p(df['column'])\n"
   ]
  },
  {
   "cell_type": "markdown",
   "metadata": {},
   "source": [
    "2.3.1 Introduction to Z-Score\n",
    "The Z-score, also known as the standard score, is a statistical measurement that describes a value's relation to the mean of a group of values. It is expressed in terms of standard deviations from the mean. A Z-score indicates how many standard deviations an element is from the mean. A Z-score can be positive or negative, with a positive score indicating the value is above the mean and a negative score indicating it is below the mean.\n",
    "\n",
    "Using Z-scores to detect outliers involves calculating the Z-score for each data point and identifying those that lie beyond a certain threshold, commonly ±3 standard deviations from the mean. These data points are considered outliers as they deviate significantly from the rest of the dataset."
   ]
  },
  {
   "cell_type": "code",
   "execution_count": 5,
   "metadata": {},
   "outputs": [
    {
     "name": "stdout",
     "output_type": "stream",
     "text": [
      "Initial DataFrame:\n",
      " Product ID Product Name  Price    Category  Stock              Description\n",
      "          1     Widget A  19.99 Electronics  100.0    A high-quality widget\n",
      "          2     Widget B  29.99 Electronics    NaN                      NaN\n",
      "          3          NaN  15.00  Home Goods   50.0      Durable and stylish\n",
      "          4     Widget D    NaN  Home Goods  200.0       A versatile widget\n",
      "          5     Widget E   9.99         NaN   10.0    Compact and efficient\n",
      "          6     Widget F  25.00 Electronics    0.0 Latest technology widget\n",
      "          7     Widget G    NaN     Kitchen  150.0     Multi-purpose widget\n",
      "          8     Widget H  39.99     Kitchen   75.0          Premium quality\n",
      "          9     Widget I    NaN Electronics    NaN        Advanced features\n",
      "         10     Widget J  49.99 Electronics   60.0            Best in class\n",
      "\n",
      "DataFrame with Outliers Identified by Z-Score:\n",
      "Empty DataFrame\n",
      "Columns: [Product ID, Product Name, Price, Category, Stock, Description, Price_Z_Score]\n",
      "Index: []\n"
     ]
    }
   ],
   "source": [
    "import pandas as pd\n",
    "import numpy as np\n",
    "\n",
    "# Read the data from the specified location\n",
    "df = pd.read_csv('D:/Projects/Data-cleaning-series/Chapter02 Handling Outliers/Products.csv')\n",
    "\n",
    "# Display the initial DataFrame\n",
    "print(\"Initial DataFrame:\")\n",
    "print(df.to_string(index=False))\n",
    "\n",
    "# Calculate Z-scores for the 'Price' column\n",
    "mean_price = df['Price'].mean()\n",
    "std_price = df['Price'].std()\n",
    "df['Price_Z_Score'] = (df['Price'] - mean_price) / std_price\n",
    "\n",
    "# Identify outliers\n",
    "df_outliers_zscore = df[df['Price_Z_Score'].abs() > 3]\n",
    "\n",
    "# Display the DataFrame with identified outliers\n",
    "print(\"\\nDataFrame with Outliers Identified by Z-Score:\")\n",
    "print(df_outliers_zscore.to_string(index=False))\n"
   ]
  }
 ],
 "metadata": {
  "language_info": {
   "name": "python"
  }
 },
 "nbformat": 4,
 "nbformat_minor": 2
}
