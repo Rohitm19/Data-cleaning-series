{
 "cells": [
  {
   "cell_type": "markdown",
   "metadata": {},
   "source": [
    "2.1 Introduction to Outliers\n",
    "Introduction:\n",
    "Outliers are data points that significantly differ from other observations in a dataset. They may occur due to variability in the data, measurement errors, or special cases that represent significant deviations from the norm. Properly identifying and handling outliers is crucial for accurate data analysis and modeling, as they can skew results and impact the performance of statistical models.\n",
    "\n",
    "Importance of Handling Outliers:\n",
    "\n",
    "Impact on Statistical Measures: Outliers can affect mean, variance, and other statistical measures, leading to misleading conclusions.\n",
    "Model Performance: Outliers can distort the training of machine learning models, leading to poor performance or inaccurate predictions.\n",
    "Data Integrity: Handling outliers ensures the dataset reflects true patterns and trends, enhancing the reliability of analyses and results.\n",
    "Types of Outliers:\n",
    "\n",
    "Univariate Outliers: Deviations in a single variable. Example: A temperature reading of 100°C in a dataset where most temperatures are between 20°C and 30°C.\n",
    "Multivariate Outliers: Deviations that occur in the context of multiple variables. Example: A combination of age and income that is far outside the normal range for a population.\n",
    "Common Causes of Outliers:\n",
    "\n",
    "Measurement Errors: Errors in data collection or entry.\n",
    "Data Entry Errors: Typographical errors or incorrect data input.\n",
    "Variability in the Data: Natural variations in data, especially in large datasets.\n",
    "Special Cases: Genuine cases that are distinct from the norm but valid. For example, a high-value transaction in a financial dataset might be an outlier but not an error.\n",
    "Approaches to Handling Outliers:\n",
    "\n",
    "Identification: Use statistical methods, visualizations, and domain knowledge to identify outliers.\n",
    "Handling: Depending on the context, outliers can be removed, transformed, or capped to reduce their impact on analyses and models.\n"
   ]
  }
 ],
 "metadata": {
  "language_info": {
   "name": "python"
  }
 },
 "nbformat": 4,
 "nbformat_minor": 2
}
