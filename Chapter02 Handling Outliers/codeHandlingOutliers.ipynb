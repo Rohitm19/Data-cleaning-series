{
 "cells": [
  {
   "cell_type": "markdown",
   "metadata": {},
   "source": [
    "2.1 Introduction to Outliers\n",
    "\n",
    "Outliers are data points that significantly differ from other observations in a dataset. They may occur due to variability in the data, measurement errors, or special cases that represent significant deviations from the norm. Properly identifying and handling outliers is crucial for accurate data analysis and modeling, as they can skew results and impact the performance of statistical models.\n",
    "\n",
    "Importance of Handling Outliers:\n",
    "\n",
    "Impact on Statistical Measures: Outliers can affect mean, variance, and other statistical measures, leading to misleading conclusions.\n",
    "Model Performance: Outliers can distort the training of machine learning models, leading to poor performance or inaccurate predictions.\n",
    "Data Integrity: Handling outliers ensures the dataset reflects true patterns and trends, enhancing the reliability of analyses and results.\n",
    "Types of Outliers:\n",
    "\n",
    "Univariate Outliers: Deviations in a single variable. Example: A temperature reading of 100°C in a dataset where most temperatures are between 20°C and 30°C.\n",
    "Multivariate Outliers: Deviations that occur in the context of multiple variables. Example: A combination of age and income that is far outside the normal range for a population.\n",
    "Common Causes of Outliers:\n",
    "\n",
    "Measurement Errors: Errors in data collection or entry.\n",
    "Data Entry Errors: Typographical errors or incorrect data input.\n",
    "Variability in the Data: Natural variations in data, especially in large datasets.\n",
    "Special Cases: Genuine cases that are distinct from the norm but valid. For example, a high-value transaction in a financial dataset might be an outlier but not an error.\n",
    "Approaches to Handling Outliers:\n",
    "\n",
    "Identification: Use statistical methods, visualizations, and domain knowledge to identify outliers.\n",
    "Handling: Depending on the context, outliers can be removed, transformed, or capped to reduce their impact on analyses and models.\n"
   ]
  },
  {
   "cell_type": "markdown",
   "metadata": {},
   "source": [
    "2.2 Definition\n",
    "\n",
    "Outliers: Outliers are data points that significantly differ from the majority of the data. They can arise from variability in the data or may indicate measurement errors. Proper handling of outliers is crucial as they can skew statistical analyses and models.\n",
    "\n",
    "Goals\n",
    "\n",
    "Identify Outliers: Detect outliers using various statistical methods and visualization techniques.\n",
    "Handle Outliers: Decide on methods to manage outliers, including removal, transformation, or capping.\n",
    "\n",
    "Description\n",
    "\n",
    "Handling outliers involves identifying data points that deviate significantly from the rest of the data and deciding on appropriate actions to manage them. Common techniques include statistical methods (Z-score, IQR), visual methods (box plots), and more advanced methods (robust statistics)."
   ]
  },
  {
   "cell_type": "markdown",
   "metadata": {},
   "source": [
    "2.3 Techniques\n",
    "\n",
    "1. Z-Score Method\n",
    "   - Description: Calculates the Z-score for each data point to determine how many standard deviations away from the mean a data point is. Data points with Z-scores beyond a certain threshold (e.g., ±3) are considered outliers.\n",
    "   - Example: df['column'].apply(lambda x: (x - mean) / std)\n",
    "\n",
    "2. Interquartile Range (IQR) Method\n",
    "   - Description: Identifies outliers based on the interquartile range (IQR). Data points outside 1.5 * IQR from the Q1 (25th percentile) or Q3 (75th percentile) are considered outliers.\n",
    "   - Example: df[(df['column'] < (Q1 - 1.5 * IQR)) | (df['column'] > (Q3 + 1.5 * IQR))]\n",
    "\n",
    "3. Box Plot Visualization\n",
    "   - Description: Uses box plots to visually identify outliers as points outside the \"whiskers\" of the plot.\n",
    "   - Example: sns.boxplot(x=df['column'])\n",
    "\n",
    "4. Capping (Winsorization)\n",
    "   - Description: Limits extreme values to a specified percentile range to reduce the impact of outliers.\n",
    "   - Example: df['column'] = np.where(df['column'] > upper_limit, upper_limit, df['column'])\n",
    "\n",
    "5. Transformation\n",
    "   - Description: Applies transformations like logarithmic or square root to reduce the effect of outliers.\n",
    "   - Example: df['column'] = np.log1p(df['column'])\n"
   ]
  },
  {
   "cell_type": "markdown",
   "metadata": {},
   "source": [
    "2.3.1 Z-Score\n",
    "\n",
    "The Z-score, also known as the standard score, is a statistical measurement that describes a value's relation to the mean of a group of values. It is expressed in terms of standard deviations from the mean. A Z-score indicates how many standard deviations an element is from the mean. A Z-score can be positive or negative, with a positive score indicating the value is above the mean and a negative score indicating it is below the mean.\n",
    "\n",
    "Using Z-scores to detect outliers involves calculating the Z-score for each data point and identifying those that lie beyond a certain threshold, commonly ±3 standard deviations from the mean. These data points are considered outliers as they deviate significantly from the rest of the dataset."
   ]
  },
  {
   "cell_type": "code",
   "execution_count": 1,
   "metadata": {},
   "outputs": [
    {
     "name": "stdout",
     "output_type": "stream",
     "text": [
      "Initial DataFrame:\n",
      " Product ID Product Name  Price    Category  Stock              Description\n",
      "          1     Widget A  19.99 Electronics  100.0    A high-quality widget\n",
      "          2     Widget B  29.99 Electronics    NaN                      NaN\n",
      "          3          NaN  15.00  Home Goods   50.0      Durable and stylish\n",
      "          4     Widget D    NaN  Home Goods  200.0       A versatile widget\n",
      "          5     Widget E   9.99         NaN   10.0    Compact and efficient\n",
      "          6     Widget F  25.00 Electronics    0.0 Latest technology widget\n",
      "          7     Widget G    NaN     Kitchen  150.0     Multi-purpose widget\n",
      "          8     Widget H  39.99     Kitchen   75.0          Premium quality\n",
      "          9     Widget I    NaN Electronics    NaN        Advanced features\n",
      "         10     Widget J  49.99 Electronics   60.0            Best in class\n",
      "\n",
      "DataFrame with Outliers Identified by Z-Score:\n",
      "Empty DataFrame\n",
      "Columns: [Product ID, Product Name, Price, Category, Stock, Description, Price_Z_Score]\n",
      "Index: []\n"
     ]
    }
   ],
   "source": [
    "import pandas as pd\n",
    "import numpy as np\n",
    "\n",
    "# Read the data from the specified location\n",
    "df = pd.read_csv('D:/Projects/Data-cleaning-series/Chapter02 Handling Outliers/Products.csv')\n",
    "\n",
    "# Display the initial DataFrame\n",
    "print(\"Initial DataFrame:\")\n",
    "print(df.to_string(index=False))\n",
    "\n",
    "# Calculate Z-scores for the 'Price' column\n",
    "mean_price = df['Price'].mean()\n",
    "std_price = df['Price'].std()\n",
    "df['Price_Z_Score'] = (df['Price'] - mean_price) / std_price\n",
    "\n",
    "# Identify outliers\n",
    "df_outliers_zscore = df[df['Price_Z_Score'].abs() > 3]\n",
    "\n",
    "# Display the DataFrame with identified outliers\n",
    "print(\"\\nDataFrame with Outliers Identified by Z-Score:\")\n",
    "print(df_outliers_zscore.to_string(index=False))\n"
   ]
  },
  {
   "cell_type": "markdown",
   "metadata": {},
   "source": [
    "Explanation:\n",
    "\n",
    "Read the Data: Load the dataset from the specified location using pd.read_csv().\n",
    "\n",
    "Initial Display: Display the DataFrame to see the data before applying the Z-score method.\n",
    "\n",
    "Calculate Z-scores: Compute the Z-scores for the 'Price' column to determine how many standard deviations each data point is from the mean.\n",
    "\n",
    "Identify Outliers: Filter out the rows where the absolute Z-score is greater than 3, indicating these are outliers.\n",
    "\n",
    "Final Display: Display the DataFrame with the identified outliers.\n",
    "\n",
    "This method is useful for detecting outliers in normally distributed data, allowing for further analysis and appropriate handling of these anomalies."
   ]
  },
  {
   "cell_type": "markdown",
   "metadata": {},
   "source": [
    "2.3.2 IQR Technique\n",
    "\n",
    "The Interquartile Range (IQR) is a measure of statistical dispersion and is calculated as the difference between the 75th percentile (Q3) and the 25th percentile (Q1) of the data. It effectively captures the range within which the middle 50% of data points lie. Outliers are identified as data points that fall below Q1 - 1.5 * IQR or above Q3 + 1.5 * IQR. This method is robust and less sensitive to extreme values than the Z-score method."
   ]
  },
  {
   "cell_type": "code",
   "execution_count": 2,
   "metadata": {},
   "outputs": [
    {
     "name": "stdout",
     "output_type": "stream",
     "text": [
      "Initial DataFrame:\n",
      " Product ID Product Name  Price    Category  Stock              Description\n",
      "          1     Widget A  19.99 Electronics  100.0    A high-quality widget\n",
      "          2     Widget B  29.99 Electronics    NaN                      NaN\n",
      "          3          NaN  15.00  Home Goods   50.0      Durable and stylish\n",
      "          4     Widget D    NaN  Home Goods  200.0       A versatile widget\n",
      "          5     Widget E   9.99         NaN   10.0    Compact and efficient\n",
      "          6     Widget F  25.00 Electronics    0.0 Latest technology widget\n",
      "          7     Widget G    NaN     Kitchen  150.0     Multi-purpose widget\n",
      "          8     Widget H  39.99     Kitchen   75.0          Premium quality\n",
      "          9     Widget I    NaN Electronics    NaN        Advanced features\n",
      "         10     Widget J  49.99 Electronics   60.0            Best in class\n",
      "\n",
      "DataFrame with Outliers Identified by IQR:\n",
      "Empty DataFrame\n",
      "Columns: [Product ID, Product Name, Price, Category, Stock, Description]\n",
      "Index: []\n"
     ]
    }
   ],
   "source": [
    "import pandas as pd\n",
    "import numpy as np\n",
    "\n",
    "# Read the data from the specified location\n",
    "df = pd.read_csv('D:/Projects/Data-cleaning-series/Chapter02 Handling Outliers/Products.csv')\n",
    "\n",
    "# Display the initial DataFrame\n",
    "print(\"Initial DataFrame:\")\n",
    "print(df.to_string(index=False))\n",
    "\n",
    "# Calculate IQR for the 'Price' column\n",
    "Q1 = df['Price'].quantile(0.25)\n",
    "Q3 = df['Price'].quantile(0.75)\n",
    "IQR = Q3 - Q1\n",
    "\n",
    "# Determine outlier bounds\n",
    "lower_bound = Q1 - 1.5 * IQR\n",
    "upper_bound = Q3 + 1.5 * IQR\n",
    "\n",
    "# Identify outliers\n",
    "df_outliers_iqr = df[(df['Price'] < lower_bound) | (df['Price'] > upper_bound)]\n",
    "\n",
    "# Display the DataFrame with identified outliers\n",
    "print(\"\\nDataFrame with Outliers Identified by IQR:\")\n",
    "print(df_outliers_iqr.to_string(index=False))\n"
   ]
  },
  {
   "cell_type": "markdown",
   "metadata": {},
   "source": [
    "Explanation:\n",
    "\n",
    "Read the Data: Load the dataset from the specified location using pd.read_csv().\n",
    "\n",
    "Initial Display: Display the DataFrame to see the data before applying the IQR method.\n",
    "\n",
    "Calculate IQR: Compute the first quartile (Q1), third quartile (Q3), and IQR for the 'Price' column.\n",
    "\n",
    "Determine Outlier Bounds: Calculate the lower and upper bounds for outliers using the IQR.\n",
    "\n",
    "Identify Outliers: Filter out the rows where 'Price' falls below the lower bound or above the upper bound.\n",
    "\n",
    "Final Display: Display the DataFrame with the identified outliers.\n",
    "\n",
    "The IQR method is particularly effective for skewed data distributions and provides a clear boundary for identifying extreme values."
   ]
  },
  {
   "cell_type": "markdown",
   "metadata": {},
   "source": [
    "2.3.3 Box Plot Visualization\n",
    "\n",
    "A box plot, also known as a whisker plot, is a standardized way of displaying the distribution of data based on a five-number summary: minimum, first quartile (Q1), median (Q2), third quartile (Q3), and maximum. Box plots are useful for identifying outliers, as they visually represent data points that fall outside the whiskers (typically 1.5 * IQR from the quartiles)."
   ]
  },
  {
   "cell_type": "code",
   "execution_count": 3,
   "metadata": {},
   "outputs": [
    {
     "name": "stdout",
     "output_type": "stream",
     "text": [
      "Initial DataFrame:\n",
      " Product ID Product Name  Price    Category  Stock              Description\n",
      "          1     Widget A  19.99 Electronics  100.0    A high-quality widget\n",
      "          2     Widget B  29.99 Electronics    NaN                      NaN\n",
      "          3          NaN  15.00  Home Goods   50.0      Durable and stylish\n",
      "          4     Widget D    NaN  Home Goods  200.0       A versatile widget\n",
      "          5     Widget E   9.99         NaN   10.0    Compact and efficient\n",
      "          6     Widget F  25.00 Electronics    0.0 Latest technology widget\n",
      "          7     Widget G    NaN     Kitchen  150.0     Multi-purpose widget\n",
      "          8     Widget H  39.99     Kitchen   75.0          Premium quality\n",
      "          9     Widget I    NaN Electronics    NaN        Advanced features\n",
      "         10     Widget J  49.99 Electronics   60.0            Best in class\n"
     ]
    },
    {
     "data": {
      "image/png": "[encoded data removed]",
      "text/plain": [
       "<Figure size 1000x600 with 1 Axes>"
      ]
     },
     "metadata": {},
     "output_type": "display_data"
    }
   ],
   "source": [
    "import pandas as pd\n",
    "import seaborn as sns\n",
    "import matplotlib.pyplot as plt\n",
    "\n",
    "# Read the data from the specified location\n",
    "df = pd.read_csv('D:/Projects/Data-cleaning-series/Chapter02 Handling Outliers/Products.csv')\n",
    "\n",
    "# Display the initial DataFrame\n",
    "print(\"Initial DataFrame:\")\n",
    "print(df.to_string(index=False))\n",
    "\n",
    "# Box plot for the 'Price' column\n",
    "plt.figure(figsize=(10, 6))\n",
    "sns.boxplot(x=df['Price'])\n",
    "plt.title('Box Plot of Price')\n",
    "plt.show()"
   ]
  },
  {
   "cell_type": "markdown",
   "metadata": {},
   "source": [
    "Explanation:\n",
    "\n",
    "Read the Data: Load the dataset from the specified location using pd.read_csv().\n",
    "\n",
    "Initial Display: Display the DataFrame to see the data before applying the box plot visualization.\n",
    "\n",
    "Box Plot: Use the Seaborn library to create a box plot for the 'Price' column. The plot will show the distribution of prices and highlight outliers as points outside the whiskers.\n",
    "\n",
    "Visualization: Display the box plot using plt.show().\n",
    "\n",
    "Box plots provide a clear visual representation of data distribution and are a straightforward way to detect and communicate the presence of outliers in a dataset."
   ]
  },
  {
   "cell_type": "markdown",
   "metadata": {},
   "source": [
    "2.3.4 Capping\n",
    "\n",
    "Capping, or Winsorization, is a technique used to limit extreme values in the data to reduce the effect of possible outliers. This method involves setting all data points outside a certain percentile range to the values at those percentiles. It helps in bringing the extreme values closer to the main body of the data."
   ]
  },
  {
   "cell_type": "code",
   "execution_count": 4,
   "metadata": {},
   "outputs": [
    {
     "name": "stdout",
     "output_type": "stream",
     "text": [
      "Initial DataFrame:\n",
      " Product ID Product Name  Price    Category  Stock              Description\n",
      "          1     Widget A  19.99 Electronics  100.0    A high-quality widget\n",
      "          2     Widget B  29.99 Electronics    NaN                      NaN\n",
      "          3          NaN  15.00  Home Goods   50.0      Durable and stylish\n",
      "          4     Widget D    NaN  Home Goods  200.0       A versatile widget\n",
      "          5     Widget E   9.99         NaN   10.0    Compact and efficient\n",
      "          6     Widget F  25.00 Electronics    0.0 Latest technology widget\n",
      "          7     Widget G    NaN     Kitchen  150.0     Multi-purpose widget\n",
      "          8     Widget H  39.99     Kitchen   75.0          Premium quality\n",
      "          9     Widget I    NaN Electronics    NaN        Advanced features\n",
      "         10     Widget J  49.99 Electronics   60.0            Best in class\n",
      "\n",
      "DataFrame After Capping (Winsorization):\n",
      " Product ID Product Name  Price    Category  Stock              Description\n",
      "          1     Widget A 19.990 Electronics  100.0    A high-quality widget\n",
      "          2     Widget B 29.990 Electronics    NaN                      NaN\n",
      "          3          NaN 15.000  Home Goods   50.0      Durable and stylish\n",
      "          4     Widget D    NaN  Home Goods  200.0       A versatile widget\n",
      "          5     Widget E 11.493         NaN   10.0    Compact and efficient\n",
      "          6     Widget F 25.000 Electronics    0.0 Latest technology widget\n",
      "          7     Widget G    NaN     Kitchen  150.0     Multi-purpose widget\n",
      "          8     Widget H 39.990     Kitchen   75.0          Premium quality\n",
      "          9     Widget I    NaN Electronics    NaN        Advanced features\n",
      "         10     Widget J 46.990 Electronics   60.0            Best in class\n"
     ]
    }
   ],
   "source": [
    "import pandas as pd\n",
    "import numpy as np\n",
    "\n",
    "# Read the data from the specified location\n",
    "df = pd.read_csv('D:/Projects/Data-cleaning-series/Chapter02 Handling Outliers/Products.csv')\n",
    "\n",
    "# Display the initial DataFrame\n",
    "print(\"Initial DataFrame:\")\n",
    "print(df.to_string(index=False))\n",
    "\n",
    "# Calculate the 5th and 95th percentiles\n",
    "lower_cap = df['Price'].quantile(0.05)\n",
    "upper_cap = df['Price'].quantile(0.95)\n",
    "\n",
    "# Apply capping to the 'Price' column\n",
    "df['Price'] = np.where(df['Price'] < lower_cap, lower_cap, df['Price'])\n",
    "df['Price'] = np.where(df['Price'] > upper_cap, upper_cap, df['Price'])\n",
    "\n",
    "# Display the DataFrame after capping\n",
    "print(\"\\nDataFrame After Capping (Winsorization):\")\n",
    "print(df.to_string(index=False))\n"
   ]
  },
  {
   "cell_type": "markdown",
   "metadata": {},
   "source": [
    "Explanation:\n",
    "\n",
    "Read the Data: Load the dataset from the specified location using pd.read_csv().\n",
    "\n",
    "Initial Display: Display the DataFrame to see the data before applying capping.\n",
    "\n",
    "Calculate Percentiles: Compute the 5th and 95th percentiles of the 'Price' column to determine the capping limits.\n",
    "Apply Capping: Use np.where to set values below the 5th percentile to the 5th percentile value and values above the 95th percentile to the 95th percentile value.\n",
    "\n",
    "Final Display: Display the DataFrame after applying capping to see the effect of Winsorization.\n",
    "\n",
    "Capping is an effective way to handle outliers by reducing the influence of extreme values, ensuring that the data remains within a specified range without completely removing those values"
   ]
  },
  {
   "cell_type": "markdown",
   "metadata": {},
   "source": [
    "2.3.5 Transformation\n",
    "\n",
    "Transformation involves applying mathematical functions to the data to reduce the impact of outliers. Common transformations include logarithmic, square root, and reciprocal transformations. These techniques can help in stabilizing variance and making the data more normally distributed."
   ]
  },
  {
   "cell_type": "code",
   "execution_count": 5,
   "metadata": {},
   "outputs": [
    {
     "name": "stdout",
     "output_type": "stream",
     "text": [
      "Initial DataFrame:\n",
      " Product ID Product Name  Price    Category  Stock              Description\n",
      "          1     Widget A  19.99 Electronics  100.0    A high-quality widget\n",
      "          2     Widget B  29.99 Electronics    NaN                      NaN\n",
      "          3          NaN  15.00  Home Goods   50.0      Durable and stylish\n",
      "          4     Widget D    NaN  Home Goods  200.0       A versatile widget\n",
      "          5     Widget E   9.99         NaN   10.0    Compact and efficient\n",
      "          6     Widget F  25.00 Electronics    0.0 Latest technology widget\n",
      "          7     Widget G    NaN     Kitchen  150.0     Multi-purpose widget\n",
      "          8     Widget H  39.99     Kitchen   75.0          Premium quality\n",
      "          9     Widget I    NaN Electronics    NaN        Advanced features\n",
      "         10     Widget J  49.99 Electronics   60.0            Best in class\n",
      "\n",
      "DataFrame After Logarithmic Transformation:\n",
      " Product ID Product Name  Price    Category  Stock              Description  Price_Log\n",
      "          1     Widget A  19.99 Electronics  100.0    A high-quality widget   3.044046\n",
      "          2     Widget B  29.99 Electronics    NaN                      NaN   3.433665\n",
      "          3          NaN  15.00  Home Goods   50.0      Durable and stylish   2.772589\n",
      "          4     Widget D    NaN  Home Goods  200.0       A versatile widget        NaN\n",
      "          5     Widget E   9.99         NaN   10.0    Compact and efficient   2.396986\n",
      "          6     Widget F  25.00 Electronics    0.0 Latest technology widget   3.258097\n",
      "          7     Widget G    NaN     Kitchen  150.0     Multi-purpose widget        NaN\n",
      "          8     Widget H  39.99     Kitchen   75.0          Premium quality   3.713328\n",
      "          9     Widget I    NaN Electronics    NaN        Advanced features        NaN\n",
      "         10     Widget J  49.99 Electronics   60.0            Best in class   3.931630\n"
     ]
    }
   ],
   "source": [
    "import pandas as pd\n",
    "import numpy as np\n",
    "\n",
    "# Read the data from the specified location\n",
    "df = pd.read_csv('D:/Projects/Data-cleaning-series/Chapter02 Handling Outliers/Products.csv')\n",
    "\n",
    "# Display the initial DataFrame\n",
    "print(\"Initial DataFrame:\")\n",
    "print(df.to_string(index=False))\n",
    "\n",
    "# Apply logarithmic transformation to the 'Price' column\n",
    "df['Price_Log'] = np.log1p(df['Price'])\n",
    "\n",
    "# Display the DataFrame after transformation\n",
    "print(\"\\nDataFrame After Logarithmic Transformation:\")\n",
    "print(df.to_string(index=False))\n"
   ]
  },
  {
   "cell_type": "markdown",
   "metadata": {},
   "source": [
    "Explanation:\n",
    "\n",
    "Read the Data: Load the dataset from the specified location using pd.read_csv().\n",
    "\n",
    "Initial Display: Display the DataFrame to see the data before applying transformation.\n",
    "\n",
    "Logarithmic Transformation: Apply the logarithmic transformation using np.log1p() to the 'Price' column. The log1p function computes the natural logarithm of one plus the input array, effectively handling zero and negative values.\n",
    "\n",
    "Final Display: Display the DataFrame after applying the logarithmic transformation.\n",
    "\n",
    "Logarithmic transformation is particularly useful for right-skewed data, as it compresses the range of values and can make the data more normally distributed, thereby reducing the influence of outliers. Other transformations such as square root (np.sqrt()) and reciprocal (1/x) can also be used depending on the specific characteristics of the data."
   ]
  }
 ],
 "metadata": {
  "kernelspec": {
   "display_name": "base",
   "language": "python",
   "name": "python3"
  },
  "language_info": {
   "codemirror_mode": {
    "name": "ipython",
    "version": 3
   },
   "file_extension": ".py",
   "mimetype": "text/x-python",
   "name": "python",
   "nbconvert_exporter": "python",
   "pygments_lexer": "ipython3",
   "version": "3.12.4"
  }
 },
 "nbformat": 4,
 "nbformat_minor": 2
}
