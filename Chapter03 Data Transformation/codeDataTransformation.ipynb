{
 "cells": [
  {
   "cell_type": "markdown",
   "metadata": {},
   "source": [
    "3.1 Introduction\n",
    "\n",
    "Data transformation involves changing the format, structure, or values of data to ensure consistency, quality, and readiness for analysis. This chapter will cover various techniques for transforming data, including normalization, standardization, and encoding categorical variables.\n",
    "\n",
    "Objectives\n",
    "Understand different data transformation techniques.\n",
    "Apply these techniques to prepare data for analysis and modeling.\n",
    "\n",
    "2.3 Techniques\n",
    "1. Normalization\n",
    "2. Standardization\n",
    "3. Encoding Categorical Variables\n",
    "   1. One-Hot Encoding\n",
    "   2. Label Encoding\n",
    "4. Binning\n",
    "5. Log Transformation\n",
    "6. Polynomial Transformation\n",
    "7. Box-Cox Transformation\n",
    "8. Feature Scaling\n",
    "9. Text Data Transformation\n",
    "10. Tokenization\n",
    "11. Stemming/Lemmatization\n",
    "12. Handling Dates and Times\n",
    "13. Aggregations and Rolling Calculations\n",
    "14. Discretization"
   ]
  }
 ],
 "metadata": {
  "language_info": {
   "name": "python"
  }
 },
 "nbformat": 4,
 "nbformat_minor": 2
}
