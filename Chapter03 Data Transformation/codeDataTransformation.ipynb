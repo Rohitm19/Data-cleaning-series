{
 "cells": [
  {
   "cell_type": "markdown",
   "metadata": {},
   "source": [
    "3.1 Introduction to Data transformation\n",
    " \n",
    "Data transformation is a crucial step in the data preparation process that involves converting raw data into a format suitable for analysis. It plays a vital role in ensuring that data is structured, consistent, and ready for various analytical tasks, including machine learning, reporting, and visualization. By applying transformation techniques, you can enhance the quality of data, making it more meaningful and easier to work with.\n",
    "\n",
    "Definition\n",
    "Data transformation refers to the process of changing the format, structure, or values of data to make it more suitable for specific applications. This can involve a wide range of operations, such as scaling, encoding, aggregating, or normalizing data. These transformations help in creating a uniform and comparable dataset that aligns with the requirements of the analytical models or business objectives.\n",
    "\n",
    "Objective\n",
    "The primary objective of data transformation is to improve the quality and usability of data by applying various techniques that address inconsistencies, normalize scales, encode categorical variables, and enhance the overall data structure. By transforming data, we can uncover hidden patterns, reduce the complexity of data analysis, and ensure that the data is in a suitable format for effective decision-making.\n",
    "\n",
    "Importance\n",
    "Data transformation is essential for several reasons:\n",
    "1. Enhancing Data Quality: It ensures that data is clean, consistent, and free from errors or inconsistencies, which is critical for reliable analysis.\n",
    "2. Improving Model Performance: Properly transformed data can lead to better model accuracy and performance, especially in machine learning.\n",
    "3. Facilitating Data Integration: It allows for the seamless integration of data from different sources, enabling comprehensive analysis across various datasets.\n",
    "4. Supporting Business Goals: By aligning data with specific business objectives, transformation techniques help in extracting actionable insights that drive informed decisions.\n",
    "\n",
    "3.2 Techniques\n",
    "1. Normalization\n",
    "2. Standardization\n",
    "3. Encoding Categorical Variables\n",
    "   1. One-Hot Encoding\n",
    "   2. Label Encoding\n",
    "4. Binning\n",
    "5. Log Transformation\n",
    "6. Polynomial Transformation\n",
    "7. Box-Cox Transformation\n",
    "8. Feature Scaling\n",
    "9. Text Data Transformation\n",
    "10. Tokenization\n",
    "11. Stemming/Lemmatization\n",
    "12. Handling Dates and Times\n",
    "13. Aggregations and Rolling Calculations\n",
    "14. Discretization"
   ]
  },
  {
   "cell_type": "markdown",
   "metadata": {},
   "source": [
    "3.2.1 Normalization\n",
    "\n",
    "Normalization is the process of scaling individual data points to a common range, usually [0, 1]. It is useful for ensuring that features contribute equally to the analysis and prevents any single feature from dominating due to its scale.\n",
    "\n",
    "Techniques\n",
    "Min-Max Normalization: Rescales the data to a fixed range (typically [0, 1])."
   ]
  },
  {
   "cell_type": "code",
   "execution_count": 29,
   "metadata": {},
   "outputs": [
    {
     "name": "stdout",
     "output_type": "stream",
     "text": [
      "Initial DataFrame:\n",
      " Product ID Product Name  Price    Category  Stock              Description\n",
      "          1     Widget A  19.99 Electronics  100.0    A high-quality widget\n",
      "          2     Widget B  29.99 Electronics    NaN                      NaN\n",
      "          3          NaN  15.00  Home Goods   50.0      Durable and stylish\n",
      "          4     Widget D    NaN  Home Goods  200.0       A versatile widget\n",
      "          5     Widget E   9.99         NaN   10.0    Compact and efficient\n",
      "          6     Widget F  25.00 Electronics    0.0 Latest technology widget\n",
      "          7     Widget G    NaN     Kitchen  150.0     Multi-purpose widget\n",
      "          8     Widget H  39.99     Kitchen   75.0          Premium quality\n",
      "          9     Widget I    NaN Electronics    NaN        Advanced features\n",
      "         10     Widget J  49.99 Electronics   60.0            Best in class\n",
      "\n",
      "DataFrame After Min-Max Normalization:\n",
      " Product ID Product Name  Price    Category  Stock              Description  Price_Normalized\n",
      "          1     Widget A  19.99 Electronics  100.0    A high-quality widget           0.25000\n",
      "          2     Widget B  29.99 Electronics    NaN                      NaN           0.50000\n",
      "          3          NaN  15.00  Home Goods   50.0      Durable and stylish           0.12525\n",
      "          4     Widget D    NaN  Home Goods  200.0       A versatile widget               NaN\n",
      "          5     Widget E   9.99         NaN   10.0    Compact and efficient           0.00000\n",
      "          6     Widget F  25.00 Electronics    0.0 Latest technology widget           0.37525\n",
      "          7     Widget G    NaN     Kitchen  150.0     Multi-purpose widget               NaN\n",
      "          8     Widget H  39.99     Kitchen   75.0          Premium quality           0.75000\n",
      "          9     Widget I    NaN Electronics    NaN        Advanced features               NaN\n",
      "         10     Widget J  49.99 Electronics   60.0            Best in class           1.00000\n"
     ]
    }
   ],
   "source": [
    "import pandas as pd\n",
    "from sklearn.preprocessing import MinMaxScaler\n",
    "\n",
    "# Read the data from the specified location\n",
    "df = pd.read_csv('D:/Projects/Data-cleaning-series/Chapter03 Data Transformation/Products.csv')\n",
    "\n",
    "# Display the initial DataFrame\n",
    "print(\"Initial DataFrame:\")\n",
    "print(df.to_string(index=False))\n",
    "\n",
    "# Initialize the MinMaxScaler\n",
    "scaler = MinMaxScaler()\n",
    "\n",
    "# Apply Min-Max Normalization to the 'Price' column\n",
    "df['Price_Normalized'] = scaler.fit_transform(df[['Price']])\n",
    "\n",
    "# Display the DataFrame after normalization\n",
    "print(\"\\nDataFrame After Min-Max Normalization:\")\n",
    "print(df.to_string(index=False))\n"
   ]
  },
  {
   "cell_type": "markdown",
   "metadata": {},
   "source": [
    "Explanation:\n",
    "\n",
    "Read the Data: Load the dataset from the specified location using pd.read_csv().\n",
    "\n",
    "Initial Display: Display the DataFrame to see the data before applying normalization.\n",
    "\n",
    "Initialize Scaler: Initialize the MinMaxScaler from sklearn.preprocessing.\n",
    "\n",
    "Apply Normalization: Apply Min-Max normalization to the 'Price' column and add the normalized values as a new column.\n",
    "\n",
    "Final Display: Display the DataFrame after applying normalization."
   ]
  },
  {
   "cell_type": "markdown",
   "metadata": {},
   "source": [
    "3.2.2 Standardization\n",
    "\n",
    "Standardization transforms data to have a mean of 0 and a standard deviation of 1. This technique is useful when the data follows a Gaussian distribution and is required for many machine learning algorithms.\n",
    "\n",
    "Techniques\n",
    "Z-Score Standardization: Subtracts the mean and divides by the standard deviation of each feature."
   ]
  },
  {
   "cell_type": "code",
   "execution_count": 30,
   "metadata": {},
   "outputs": [
    {
     "name": "stdout",
     "output_type": "stream",
     "text": [
      "Initial DataFrame:\n",
      " Product ID Product Name  Price    Category  Stock              Description\n",
      "          1     Widget A  19.99 Electronics  100.0    A high-quality widget\n",
      "          2     Widget B  29.99 Electronics    NaN                      NaN\n",
      "          3          NaN  15.00  Home Goods   50.0      Durable and stylish\n",
      "          4     Widget D    NaN  Home Goods  200.0       A versatile widget\n",
      "          5     Widget E   9.99         NaN   10.0    Compact and efficient\n",
      "          6     Widget F  25.00 Electronics    0.0 Latest technology widget\n",
      "          7     Widget G    NaN     Kitchen  150.0     Multi-purpose widget\n",
      "          8     Widget H  39.99     Kitchen   75.0          Premium quality\n",
      "          9     Widget I    NaN Electronics    NaN        Advanced features\n",
      "         10     Widget J  49.99 Electronics   60.0            Best in class\n",
      "\n",
      "DataFrame After Z-Score Standardization:\n",
      " Product ID Product Name  Price    Category  Stock              Description  Price_Standardized\n",
      "          1     Widget A  19.99 Electronics  100.0    A high-quality widget           -0.547460\n",
      "          2     Widget B  29.99 Electronics    NaN                      NaN            0.218678\n",
      "          3          NaN  15.00  Home Goods   50.0      Durable and stylish           -0.929763\n",
      "          4     Widget D    NaN  Home Goods  200.0       A versatile widget                 NaN\n",
      "          5     Widget E   9.99         NaN   10.0    Compact and efficient           -1.313598\n",
      "          6     Widget F  25.00 Electronics    0.0 Latest technology widget           -0.163625\n",
      "          7     Widget G    NaN     Kitchen  150.0     Multi-purpose widget                 NaN\n",
      "          8     Widget H  39.99     Kitchen   75.0          Premium quality            0.984815\n",
      "          9     Widget I    NaN Electronics    NaN        Advanced features                 NaN\n",
      "         10     Widget J  49.99 Electronics   60.0            Best in class            1.750953\n"
     ]
    }
   ],
   "source": [
    "import pandas as pd\n",
    "from sklearn.preprocessing import StandardScaler\n",
    "\n",
    "# Read the data from the specified location\n",
    "df = pd.read_csv('D:/Projects/Data-cleaning-series/Chapter03 Data Transformation/Products.csv')\n",
    "\n",
    "# Display the initial DataFrame\n",
    "print(\"Initial DataFrame:\")\n",
    "print(df.to_string(index=False))\n",
    "\n",
    "# Initialize the StandardScaler\n",
    "scaler = StandardScaler()\n",
    "\n",
    "# Apply Z-Score Standardization to the 'Price' column\n",
    "df['Price_Standardized'] = scaler.fit_transform(df[['Price']])\n",
    "\n",
    "# Display the DataFrame after standardization\n",
    "print(\"\\nDataFrame After Z-Score Standardization:\")\n",
    "print(df.to_string(index=False))\n"
   ]
  },
  {
   "cell_type": "markdown",
   "metadata": {},
   "source": [
    "Explanation:\n",
    "\n",
    "Read the Data: Load the dataset from the specified location using pd.read_csv().\n",
    "\n",
    "Initial Display: Display the DataFrame to see the data before applying standardization.\n",
    "\n",
    "Initialize Scaler: Initialize the StandardScaler from sklearn.preprocessing.\n",
    "\n",
    "Apply Standardization: Apply Z-Score standardization to the 'Price' column and add the standardized values as a new column.\n",
    "\n",
    "Final Display: Display the DataFrame after applying standardization."
   ]
  },
  {
   "cell_type": "markdown",
   "metadata": {},
   "source": [
    "3.2.3 Encoding Categorical Variables \n",
    "\n",
    "Encoding categorical variables involves converting categorical data into numerical format so that it can be used in machine learning algorithms. Common techniques include one-hot encoding and label encoding.\n",
    "\n",
    "Techniques\n",
    "1. One-Hot Encoding: Converts each category into a separate binary column.\n"
   ]
  },
  {
   "cell_type": "code",
   "execution_count": 31,
   "metadata": {},
   "outputs": [
    {
     "name": "stdout",
     "output_type": "stream",
     "text": [
      "Initial DataFrame:\n",
      " Product ID Product Name  Price    Category  Stock              Description\n",
      "          1     Widget A  19.99 Electronics  100.0    A high-quality widget\n",
      "          2     Widget B  29.99 Electronics    NaN                      NaN\n",
      "          3          NaN  15.00  Home Goods   50.0      Durable and stylish\n",
      "          4     Widget D    NaN  Home Goods  200.0       A versatile widget\n",
      "          5     Widget E   9.99         NaN   10.0    Compact and efficient\n",
      "          6     Widget F  25.00 Electronics    0.0 Latest technology widget\n",
      "          7     Widget G    NaN     Kitchen  150.0     Multi-purpose widget\n",
      "          8     Widget H  39.99     Kitchen   75.0          Premium quality\n",
      "          9     Widget I    NaN Electronics    NaN        Advanced features\n",
      "         10     Widget J  49.99 Electronics   60.0            Best in class\n",
      "\n",
      "DataFrame After One-Hot Encoding:\n",
      " Product ID Product Name  Price  Stock              Description  Category_Electronics  Category_Home Goods  Category_Kitchen  Category_nan\n",
      "          1     Widget A  19.99  100.0    A high-quality widget                   1.0                  0.0               0.0           0.0\n",
      "          2     Widget B  29.99    NaN                      NaN                   1.0                  0.0               0.0           0.0\n",
      "          3          NaN  15.00   50.0      Durable and stylish                   0.0                  1.0               0.0           0.0\n",
      "          4     Widget D    NaN  200.0       A versatile widget                   0.0                  1.0               0.0           0.0\n",
      "          5     Widget E   9.99   10.0    Compact and efficient                   0.0                  0.0               0.0           1.0\n",
      "          6     Widget F  25.00    0.0 Latest technology widget                   1.0                  0.0               0.0           0.0\n",
      "          7     Widget G    NaN  150.0     Multi-purpose widget                   0.0                  0.0               1.0           0.0\n",
      "          8     Widget H  39.99   75.0          Premium quality                   0.0                  0.0               1.0           0.0\n",
      "          9     Widget I    NaN    NaN        Advanced features                   1.0                  0.0               0.0           0.0\n",
      "         10     Widget J  49.99   60.0            Best in class                   1.0                  0.0               0.0           0.0\n"
     ]
    }
   ],
   "source": [
    "import pandas as pd\n",
    "from sklearn.preprocessing import OneHotEncoder\n",
    "\n",
    "# Read the data from the specified location\n",
    "df = pd.read_csv('D:/Projects/Data-cleaning-series/Chapter03 Data Transformation/Products.csv')\n",
    "\n",
    "# Display the initial DataFrame\n",
    "print(\"Initial DataFrame:\")\n",
    "print(df.to_string(index=False))\n",
    "\n",
    "# Initialize the OneHotEncoder\n",
    "encoder = OneHotEncoder(sparse_output=False)\n",
    "\n",
    "# Apply One-Hot Encoding to the 'Category' column\n",
    "category_encoded = encoder.fit_transform(df[['Category']])\n",
    "category_encoded_df = pd.DataFrame(category_encoded, columns=encoder.get_feature_names_out(['Category']))\n",
    "\n",
    "# Concatenate the one-hot encoded columns to the original DataFrame\n",
    "df = pd.concat([df, category_encoded_df], axis=1)\n",
    "\n",
    "# Drop the original 'Category' column\n",
    "df.drop('Category', axis=1, inplace=True)\n",
    "\n",
    "# Display the DataFrame after one-hot encoding\n",
    "print(\"\\nDataFrame After One-Hot Encoding:\")\n",
    "print(df.to_string(index=False))\n"
   ]
  },
  {
   "cell_type": "markdown",
   "metadata": {},
   "source": [
    "Explanation:\n",
    "\n",
    "Read the Data: Load the dataset from the specified location using pd.read_csv().\n",
    "\n",
    "Initial Display: Display the DataFrame to see the data before applying encoding.\n",
    "\n",
    "Initialize Encoder: Initialize the OneHotEncoder from sklearn.preprocessing with sparse_output=False.\n",
    "\n",
    "Apply One-Hot Encoding: Apply one-hot encoding to the 'Category' column, creating new binary columns for each category.\n",
    "\n",
    "Concatenate and Drop: Concatenate the new columns to the original DataFrame and drop the original 'Category' column.\n",
    "\n",
    "Final Display: Display the DataFrame after applying one-hot encoding.\n",
    "\n",
    "This updated code should work correctly with the current version of scikit-learn."
   ]
  },
  {
   "cell_type": "markdown",
   "metadata": {},
   "source": [
    "2. Label Encoding: \n",
    "\n",
    "Label Encoding involves converting categorical data into numerical labels. Each unique category is assigned an integer value. This technique is straightforward and can be useful when the categorical variable has an ordinal relationship."
   ]
  },
  {
   "cell_type": "code",
   "execution_count": 32,
   "metadata": {},
   "outputs": [
    {
     "name": "stdout",
     "output_type": "stream",
     "text": [
      "Initial DataFrame:\n",
      " Product ID Product Name  Price    Category  Stock              Description\n",
      "          1     Widget A  19.99 Electronics  100.0    A high-quality widget\n",
      "          2     Widget B  29.99 Electronics    NaN                      NaN\n",
      "          3          NaN  15.00  Home Goods   50.0      Durable and stylish\n",
      "          4     Widget D    NaN  Home Goods  200.0       A versatile widget\n",
      "          5     Widget E   9.99         NaN   10.0    Compact and efficient\n",
      "          6     Widget F  25.00 Electronics    0.0 Latest technology widget\n",
      "          7     Widget G    NaN     Kitchen  150.0     Multi-purpose widget\n",
      "          8     Widget H  39.99     Kitchen   75.0          Premium quality\n",
      "          9     Widget I    NaN Electronics    NaN        Advanced features\n",
      "         10     Widget J  49.99 Electronics   60.0            Best in class\n",
      "\n",
      "DataFrame After Label Encoding:\n",
      " Product ID Product Name  Price    Category  Stock              Description  Category_Encoded\n",
      "          1     Widget A  19.99 Electronics  100.0    A high-quality widget                 0\n",
      "          2     Widget B  29.99 Electronics    NaN                      NaN                 0\n",
      "          3          NaN  15.00  Home Goods   50.0      Durable and stylish                 1\n",
      "          4     Widget D    NaN  Home Goods  200.0       A versatile widget                 1\n",
      "          5     Widget E   9.99         NaN   10.0    Compact and efficient                 3\n",
      "          6     Widget F  25.00 Electronics    0.0 Latest technology widget                 0\n",
      "          7     Widget G    NaN     Kitchen  150.0     Multi-purpose widget                 2\n",
      "          8     Widget H  39.99     Kitchen   75.0          Premium quality                 2\n",
      "          9     Widget I    NaN Electronics    NaN        Advanced features                 0\n",
      "         10     Widget J  49.99 Electronics   60.0            Best in class                 0\n"
     ]
    }
   ],
   "source": [
    "import pandas as pd\n",
    "from sklearn.preprocessing import LabelEncoder\n",
    "\n",
    "# Read the data from the specified location\n",
    "df = pd.read_csv('D:/Projects/Data-cleaning-series/Chapter03 Data Transformation/Products.csv')\n",
    "\n",
    "# Display the initial DataFrame\n",
    "print(\"Initial DataFrame:\")\n",
    "print(df.to_string(index=False))\n",
    "\n",
    "# Initialize the LabelEncoder\n",
    "label_encoder = LabelEncoder()\n",
    "\n",
    "# Apply Label Encoding to the 'Category' column\n",
    "df['Category_Encoded'] = label_encoder.fit_transform(df['Category'].astype(str))\n",
    "\n",
    "# Display the DataFrame after label encoding\n",
    "print(\"\\nDataFrame After Label Encoding:\")\n",
    "print(df.to_string(index=False))"
   ]
  },
  {
   "cell_type": "markdown",
   "metadata": {},
   "source": [
    "Explanation:\n",
    "\n",
    "Read the Data: Load the dataset from the specified location using pd.read_csv().\n",
    "\n",
    "Initial Display: Display the DataFrame to see the data before applying encoding.\n",
    "\n",
    "Initialize LabelEncoder: Initialize the LabelEncoder from sklearn.preprocessing.\n",
    "\n",
    "Apply Label Encoding: Convert the 'Category' column into numerical labels using fit_transform(). The new encoded labels are stored in a new column called 'Category_Encoded'.\n",
    "\n",
    "Final Display: Display the DataFrame after applying label encoding, showing the original categories and their corresponding numerical labels.\n",
    "\n",
    "This code will replace the categories in the 'Category' column with integer values that represent each unique category. If a category has missing values, they will be treated as a separate category or encoded as -1 depending on how missing values are handled."
   ]
  }
 ],
 "metadata": {
  "kernelspec": {
   "display_name": "base",
   "language": "python",
   "name": "python3"
  },
  "language_info": {
   "codemirror_mode": {
    "name": "ipython",
    "version": 3
   },
   "file_extension": ".py",
   "mimetype": "text/x-python",
   "name": "python",
   "nbconvert_exporter": "python",
   "pygments_lexer": "ipython3",
   "version": "3.12.4"
  }
 },
 "nbformat": 4,
 "nbformat_minor": 2
}
