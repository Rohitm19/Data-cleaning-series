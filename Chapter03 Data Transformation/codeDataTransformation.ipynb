{
 "cells": [
  {
   "cell_type": "markdown",
   "metadata": {},
   "source": [
    "3.1 Introduction\n",
    "\n",
    "Data transformation involves changing the format, structure, or values of data to ensure consistency, quality, and readiness for analysis. This chapter will cover various techniques for transforming data, including normalization, standardization, and encoding categorical variables.\n",
    "\n",
    "Objectives\n",
    "Understand different data transformation techniques.\n",
    "Apply these techniques to prepare data for analysis and modeling.\n",
    "\n",
    "2.3 Techniques\n",
    "1. Normalization\n",
    "2. Standardization\n",
    "3. Encoding Categorical Variables\n",
    "   1. One-Hot Encoding\n",
    "   2. Label Encoding\n",
    "4. Binning\n",
    "5. Log Transformation\n",
    "6. Polynomial Transformation\n",
    "7. Box-Cox Transformation\n",
    "8. Feature Scaling\n",
    "9. Text Data Transformation\n",
    "10. Tokenization\n",
    "11. Stemming/Lemmatization\n",
    "12. Handling Dates and Times\n",
    "13. Aggregations and Rolling Calculations\n",
    "14. Discretization"
   ]
  },
  {
   "cell_type": "markdown",
   "metadata": {},
   "source": [
    "2.3.1 Normalization\n",
    "\n",
    "Introduction to Normalization\n",
    "Normalization is the process of scaling individual data points to a common range, usually [0, 1]. It is useful for ensuring that features contribute equally to the analysis and prevents any single feature from dominating due to its scale.\n",
    "\n",
    "Techniques\n",
    "Min-Max Normalization: Rescales the data to a fixed range (typically [0, 1])."
   ]
  },
  {
   "cell_type": "code",
   "execution_count": 2,
   "metadata": {},
   "outputs": [
    {
     "name": "stdout",
     "output_type": "stream",
     "text": [
      "Initial DataFrame:\n",
      " Product ID Product Name  Price    Category  Stock              Description\n",
      "          1     Widget A  19.99 Electronics  100.0    A high-quality widget\n",
      "          2     Widget B  29.99 Electronics    NaN                      NaN\n",
      "          3          NaN  15.00  Home Goods   50.0      Durable and stylish\n",
      "          4     Widget D    NaN  Home Goods  200.0       A versatile widget\n",
      "          5     Widget E   9.99         NaN   10.0    Compact and efficient\n",
      "          6     Widget F  25.00 Electronics    0.0 Latest technology widget\n",
      "          7     Widget G    NaN     Kitchen  150.0     Multi-purpose widget\n",
      "          8     Widget H  39.99     Kitchen   75.0          Premium quality\n",
      "          9     Widget I    NaN Electronics    NaN        Advanced features\n",
      "         10     Widget J  49.99 Electronics   60.0            Best in class\n",
      "\n",
      "DataFrame After Min-Max Normalization:\n",
      " Product ID Product Name  Price    Category  Stock              Description  Price_Normalized\n",
      "          1     Widget A  19.99 Electronics  100.0    A high-quality widget           0.25000\n",
      "          2     Widget B  29.99 Electronics    NaN                      NaN           0.50000\n",
      "          3          NaN  15.00  Home Goods   50.0      Durable and stylish           0.12525\n",
      "          4     Widget D    NaN  Home Goods  200.0       A versatile widget               NaN\n",
      "          5     Widget E   9.99         NaN   10.0    Compact and efficient           0.00000\n",
      "          6     Widget F  25.00 Electronics    0.0 Latest technology widget           0.37525\n",
      "          7     Widget G    NaN     Kitchen  150.0     Multi-purpose widget               NaN\n",
      "          8     Widget H  39.99     Kitchen   75.0          Premium quality           0.75000\n",
      "          9     Widget I    NaN Electronics    NaN        Advanced features               NaN\n",
      "         10     Widget J  49.99 Electronics   60.0            Best in class           1.00000\n"
     ]
    }
   ],
   "source": [
    "import pandas as pd\n",
    "from sklearn.preprocessing import MinMaxScaler\n",
    "\n",
    "# Read the data from the specified location\n",
    "df = pd.read_csv('D:/Projects/Data-cleaning-series/Chapter03 Data Transformation/Products.csv')\n",
    "\n",
    "# Display the initial DataFrame\n",
    "print(\"Initial DataFrame:\")\n",
    "print(df.to_string(index=False))\n",
    "\n",
    "# Initialize the MinMaxScaler\n",
    "scaler = MinMaxScaler()\n",
    "\n",
    "# Apply Min-Max Normalization to the 'Price' column\n",
    "df['Price_Normalized'] = scaler.fit_transform(df[['Price']])\n",
    "\n",
    "# Display the DataFrame after normalization\n",
    "print(\"\\nDataFrame After Min-Max Normalization:\")\n",
    "print(df.to_string(index=False))\n"
   ]
  },
  {
   "cell_type": "markdown",
   "metadata": {},
   "source": [
    "Explanation:\n",
    "\n",
    "Read the Data: Load the dataset from the specified location using pd.read_csv().\n",
    "\n",
    "Initial Display: Display the DataFrame to see the data before applying normalization.\n",
    "\n",
    "Initialize Scaler: Initialize the MinMaxScaler from sklearn.preprocessing.\n",
    "\n",
    "Apply Normalization: Apply Min-Max normalization to the 'Price' column and add the normalized values as a new column.\n",
    "\n",
    "Final Display: Display the DataFrame after applying normalization."
   ]
  }
 ],
 "metadata": {
  "kernelspec": {
   "display_name": "base",
   "language": "python",
   "name": "python3"
  },
  "language_info": {
   "codemirror_mode": {
    "name": "ipython",
    "version": 3
   },
   "file_extension": ".py",
   "mimetype": "text/x-python",
   "name": "python",
   "nbconvert_exporter": "python",
   "pygments_lexer": "ipython3",
   "version": "3.12.4"
  }
 },
 "nbformat": 4,
 "nbformat_minor": 2
}
