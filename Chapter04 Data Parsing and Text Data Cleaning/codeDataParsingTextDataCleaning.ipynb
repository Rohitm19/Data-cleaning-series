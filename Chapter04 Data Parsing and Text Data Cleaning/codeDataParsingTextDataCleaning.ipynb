{
 "cells": [
  {
   "cell_type": "markdown",
   "metadata": {},
   "source": [
    "4.1 Introduction\n",
    "Data parsing and text data cleaning are essential techniques when working with textual data. Text data often contains inconsistencies, unnecessary information, or requires extraction of specific parts to make it useful for analysis.\n",
    "\n",
    "4.2 Techniques\n",
    "In this chapter, we'll cover several techniques:\n",
    "\n",
    "1. Extracting Meaningful Components: Extract specific information from text data, such as dates, names, or numbers.\n",
    "2. Ckeaning Text Data: Removing special characters, Converting text to lowercase, Removing extra spaces\n",
    "3. Lowercasing: Convert all text to lowercase to ensure uniformity.\n",
    "4. Removing Stop Words: Remove common words that do not add significant meaning to the text, such as \"and,\" \"the,\" or \"is.\"\n",
    "5. Lemmatization: Convert words to their base or dictionary form.\n",
    "6. Handling Contractions: Expand contracted words (e.g., \"don't\" to \"do not\").\n",
    "7. Removing HTML Tags: Clean text data from HTML tags if scraping from web pages.\n",
    "8. Removing Numerical Data: Remove numbers from text when they are not needed for analysis."
   ]
  },
  {
   "cell_type": "markdown",
   "metadata": {},
   "source": [
    "4.2.1 Extracting Meaningful Components\n",
    "Introduction:\n",
    "Extracting meaningful components from text data is often the first step in text data processing. This process involves isolating specific information within text, such as dates, phone numbers, email addresses, or any other relevant patterns. These components can be crucial for analysis, reporting, or further data processing.\n",
    "\n",
    "Task:\n",
    "Let's start with extracting dates from a 'Description' column in a dataset. We'll use regular expressions to identify and extract any date formats within the text."
   ]
  },
  {
   "cell_type": "code",
   "execution_count": 1,
   "metadata": {},
   "outputs": [
    {
     "name": "stdout",
     "output_type": "stream",
     "text": [
      "Original DataFrame:\n",
      " Product ID Product Name  Price    Category  Stock              Description\n",
      "          1     Widget A  19.99 Electronics  100.0    A high-quality widget\n",
      "          2     Widget B  29.99 Electronics    NaN                      NaN\n",
      "          3          NaN  15.00  Home Goods   50.0      Durable and stylish\n",
      "          4     Widget D    NaN  Home Goods  200.0       A versatile widget\n",
      "          5     Widget E   9.99         NaN   10.0    Compact and efficient\n",
      "          6     Widget F  25.00 Electronics    0.0 Latest technology widget\n",
      "          7     Widget G    NaN     Kitchen  150.0     Multi-purpose widget\n",
      "          8     Widget H  39.99     Kitchen   75.0          Premium quality\n",
      "          9     Widget I    NaN Electronics    NaN        Advanced features\n",
      "         10     Widget J  49.99 Electronics   60.0            Best in class\n",
      "\n",
      "DataFrame After Extracting Dates:\n",
      " Product ID Product Name  Price    Category  Stock              Description Dates\n",
      "          1     Widget A  19.99 Electronics  100.0    A high-quality widget    []\n",
      "          2     Widget B  29.99 Electronics    NaN                      NaN    []\n",
      "          3          NaN  15.00  Home Goods   50.0      Durable and stylish    []\n",
      "          4     Widget D    NaN  Home Goods  200.0       A versatile widget    []\n",
      "          5     Widget E   9.99         NaN   10.0    Compact and efficient    []\n",
      "          6     Widget F  25.00 Electronics    0.0 Latest technology widget    []\n",
      "          7     Widget G    NaN     Kitchen  150.0     Multi-purpose widget    []\n",
      "          8     Widget H  39.99     Kitchen   75.0          Premium quality    []\n",
      "          9     Widget I    NaN Electronics    NaN        Advanced features    []\n",
      "         10     Widget J  49.99 Electronics   60.0            Best in class    []\n"
     ]
    }
   ],
   "source": [
    "import pandas as pd\n",
    "import re\n",
    "\n",
    "# Load the data\n",
    "df = pd.read_csv('D:/Projects/Data-cleaning-series/Chapter04 Data Parsing and Text Data Cleaning/Products.csv')\n",
    "\n",
    "# Example of the dataset with text data\n",
    "print(\"Original DataFrame:\")\n",
    "print(df.to_string(index=False))\n",
    "\n",
    "# Extracting Dates from 'Description' column\n",
    "df['Dates'] = df['Description'].apply(lambda x: re.findall(r'\\d{4}-\\d{2}-\\d{2}', x) if pd.notnull(x) else [])\n",
    "\n",
    "# Display the DataFrame after extracting dates\n",
    "print(\"\\nDataFrame After Extracting Dates:\")\n",
    "print(df.to_string(index=False))\n"
   ]
  },
  {
   "cell_type": "markdown",
   "metadata": {},
   "source": [
    "Explanation:\n",
    "\n",
    "Regular Expressions (re): We're using the re library to search for patterns in the text. The pattern \\d{4}-\\d{2}-\\d{2} is looking for dates in the format YYYY-MM-DD.\n",
    "\n",
    "Lambda Function: We apply a lambda function to the 'Description' column, searching for any text that matches the date pattern. If found, it adds it to a new column 'Dates'.\n",
    "\n",
    "Handling Missing Values: If the 'Description' is missing, the function returns an empty list to handle the missing data gracefully."
   ]
  },
  {
   "cell_type": "markdown",
   "metadata": {},
   "source": [
    "4.2.2 Cleaning Text Data\n",
    "Introduction:\n",
    "Cleaning text data is a crucial step in preparing data for analysis or machine learning models. It involves removing or correcting unwanted characters, formatting inconsistencies, and noise from the text. This process helps ensure that the data is in a consistent and usable format.\n",
    "\n",
    "Task:\n",
    "We'll clean the 'Description' column in our dataset by performing the following tasks:\n",
    "\n",
    "Removing special characters\n",
    "Converting text to lowercase\n",
    "Removing extra spaces"
   ]
  },
  {
   "cell_type": "code",
   "execution_count": 2,
   "metadata": {},
   "outputs": [
    {
     "name": "stdout",
     "output_type": "stream",
     "text": [
      "Original DataFrame:\n",
      " Product ID Product Name  Price    Category  Stock              Description\n",
      "          1     Widget A  19.99 Electronics  100.0    A high-quality widget\n",
      "          2     Widget B  29.99 Electronics    NaN                      NaN\n",
      "          3          NaN  15.00  Home Goods   50.0      Durable and stylish\n",
      "          4     Widget D    NaN  Home Goods  200.0       A versatile widget\n",
      "          5     Widget E   9.99         NaN   10.0    Compact and efficient\n",
      "          6     Widget F  25.00 Electronics    0.0 Latest technology widget\n",
      "          7     Widget G    NaN     Kitchen  150.0     Multi-purpose widget\n",
      "          8     Widget H  39.99     Kitchen   75.0          Premium quality\n",
      "          9     Widget I    NaN Electronics    NaN        Advanced features\n",
      "         10     Widget J  49.99 Electronics   60.0            Best in class\n",
      "\n",
      "DataFrame After Cleaning Text Data:\n",
      " Product ID Product Name  Price    Category  Stock              Description      Cleaned_Description\n",
      "          1     Widget A  19.99 Electronics  100.0    A high-quality widget     a highquality widget\n",
      "          2     Widget B  29.99 Electronics    NaN                      NaN                      NaN\n",
      "          3          NaN  15.00  Home Goods   50.0      Durable and stylish      durable and stylish\n",
      "          4     Widget D    NaN  Home Goods  200.0       A versatile widget       a versatile widget\n",
      "          5     Widget E   9.99         NaN   10.0    Compact and efficient    compact and efficient\n",
      "          6     Widget F  25.00 Electronics    0.0 Latest technology widget latest technology widget\n",
      "          7     Widget G    NaN     Kitchen  150.0     Multi-purpose widget      multipurpose widget\n",
      "          8     Widget H  39.99     Kitchen   75.0          Premium quality          premium quality\n",
      "          9     Widget I    NaN Electronics    NaN        Advanced features        advanced features\n",
      "         10     Widget J  49.99 Electronics   60.0            Best in class            best in class\n"
     ]
    }
   ],
   "source": [
    "import pandas as pd\n",
    "import re\n",
    "\n",
    "# Load the data\n",
    "df = pd.read_csv('D:/Projects/Data-cleaning-series/Chapter04 Data Parsing and Text Data Cleaning/Products.csv')\n",
    "\n",
    "# Example of the dataset with text data\n",
    "print(\"Original DataFrame:\")\n",
    "print(df.to_string(index=False))\n",
    "\n",
    "# Function to clean text data\n",
    "def clean_text(text):\n",
    "    if pd.isnull(text):\n",
    "        return text\n",
    "    # Remove special characters\n",
    "    text = re.sub(r'[^A-Za-z0-9\\s]', '', text)\n",
    "    # Convert to lowercase\n",
    "    text = text.lower()\n",
    "    # Remove extra spaces\n",
    "    text = re.sub(r'\\s+', ' ', text).strip()\n",
    "    return text\n",
    "\n",
    "# Apply the cleaning function to the 'Description' column\n",
    "df['Cleaned_Description'] = df['Description'].apply(clean_text)\n",
    "\n",
    "# Display the DataFrame after cleaning text data\n",
    "print(\"\\nDataFrame After Cleaning Text Data:\")\n",
    "print(df.to_string(index=False))\n"
   ]
  },
  {
   "cell_type": "markdown",
   "metadata": {},
   "source": [
    "Explanation:\n",
    "\n",
    "Removing Special Characters: The regular expression r'[^A-Za-z0-9\\s]' is used to remove any characters that are not letters, numbers, or spaces.\n",
    "\n",
    "Converting to Lowercase: We convert the text to lowercase to ensure uniformity in the data.\n",
    "\n",
    "Removing Extra Spaces: The regular expression r'\\s+' is used to replace multiple spaces with a single space, and strip() removes any leading or trailing spaces.\n",
    "\n",
    "This process cleans the text data, making it more consistent and ready for further processing or analysis."
   ]
  }
 ],
 "metadata": {
  "kernelspec": {
   "display_name": "base",
   "language": "python",
   "name": "python3"
  },
  "language_info": {
   "codemirror_mode": {
    "name": "ipython",
    "version": 3
   },
   "file_extension": ".py",
   "mimetype": "text/x-python",
   "name": "python",
   "nbconvert_exporter": "python",
   "pygments_lexer": "ipython3",
   "version": "3.12.4"
  }
 },
 "nbformat": 4,
 "nbformat_minor": 2
}
