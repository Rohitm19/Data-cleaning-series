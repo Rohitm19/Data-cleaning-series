{
 "cells": [
  {
   "cell_type": "markdown",
   "metadata": {},
   "source": [
    "4.1 Introduction\n",
    "Data parsing and text data cleaning are essential techniques when working with textual data. Text data often contains inconsistencies, unnecessary information, or requires extraction of specific parts to make it useful for analysis.\n",
    "\n",
    "4.2 Techniques\n",
    "In this chapter, we'll cover several techniques:\n",
    "\n",
    "1. Extracting Meaningful Components: Extract specific information from text data, such as dates, names, or numbers.\n",
    "2. Removing Special Characters: Clean the text by removing punctuation, symbols, and other non-alphabetic characters.\n",
    "3. Lowercasing: Convert all text to lowercase to ensure uniformity.\n",
    "4. Removing Stop Words: Remove common words that do not add significant meaning to the text, such as \"and,\" \"the,\" or \"is.\"\n",
    "5. Lemmatization: Convert words to their base or dictionary form.\n",
    "6. Handling Contractions: Expand contracted words (e.g., \"don't\" to \"do not\").\n",
    "7. Removing HTML Tags: Clean text data from HTML tags if scraping from web pages.\n",
    "8. Removing Numerical Data: Remove numbers from text when they are not needed for analysis."
   ]
  }
 ],
 "metadata": {
  "kernelspec": {
   "display_name": "base",
   "language": "python",
   "name": "python3"
  },
  "language_info": {
   "codemirror_mode": {
    "name": "ipython",
    "version": 3
   },
   "file_extension": ".py",
   "mimetype": "text/x-python",
   "name": "python",
   "nbconvert_exporter": "python",
   "pygments_lexer": "ipython3",
   "version": "3.12.4"
  }
 },
 "nbformat": 4,
 "nbformat_minor": 2
}
