{
 "cells": [
  {
   "cell_type": "markdown",
   "metadata": {},
   "source": [
    "6.1 Introduction\n",
    "\n",
    "Data validation is a crucial step in the data cleaning and preparation process that ensures the accuracy, quality, and integrity of the data before it is used for analysis, reporting, or decision-making. In a world where data-driven decisions are increasingly shaping business strategies, the importance of reliable and valid data cannot be overstated. Poor quality data can lead to erroneous conclusions, misguided decisions, and significant financial losses. Data Validation serves as a safeguard, ensuring that the data being used meets the necessary standards and is fit for its intended purpose.\n",
    "\n",
    "Data validation is not a one-size-fits-all process; it involves a series of checks and rules that must be customized to the specific context of the data and the goals of the analysis. These checks can range from simple format validations to complex logic checks that ensure data consistency and coherence. By systematically validating data, organizations can prevent the propagation of errors throughout their data pipelines, ultimately leading to more accurate and trustworthy insights.\n",
    "\n",
    "Definition\n",
    "\n",
    "Data Validation refers to the process of ensuring that the data is accurate, complete, consistent, and within the expected parameters. This process involves applying a series of checks and rules to verify that the data conforms to the required standards before it is used in any analysis or reporting.\n",
    "\n",
    "Data validation can be broken down into several types:\n",
    "\n",
    "1. Format Validation: Ensures that the data follows the correct format (e.g., dates in YYYY-MM-DD format).\n",
    "2. Range Validation: Checks that numeric data falls within an acceptable range (e.g., age should be between 0 and 120).\n",
    "3. Consistency Validation: Verifies that data is logically consistent across different fields (e.g., start date should be before the end date).\n",
    "4. Uniqueness Validation: Ensures that there are no duplicate records in the dataset.\n",
    "5. Completeness Validation: Checks that all required fields are populated and no critical information is missing.\n",
    "\n",
    "Objective\n",
    "\n",
    "The primary objective of data validation is to ensure that the data being used is of the highest quality, free from errors, and suitable for its intended use. By validating data, the aim is to detect and correct any issues before they can impact the results of data analysis or lead to incorrect conclusions.\n",
    "\n",
    "Data validation seeks to achieve the following goals:\n",
    "\n",
    "1. Accuracy: Ensuring that the data accurately represents the real-world entities or events it is supposed to describe.\n",
    "2. Consistency: Making sure that the data is logically coherent and does not contain contradictions.\n",
    "3. Completeness: Verifying that all necessary data is present and no critical information is missing.\n",
    "4. Reliability: Ensuring that the data is reliable and can be trusted for decision-making purposes.\n",
    "5. Efficiency: Streamlining the data processing pipeline by catching and correcting errors early, reducing the need for rework later in the process.\n",
    "\n",
    "Importance\n",
    "\n",
    "Data validation is critical for several reasons:\n",
    "\n",
    "1. Enhancing Data Quality: Data validation helps to improve the overall quality of the data by ensuring it is accurate, consistent, and complete. High-quality data is the foundation for reliable analysis and decision-making.\n",
    "2. Preventing Errors: By validating data before it is used, organizations can prevent errors from creeping into their analysis, thereby avoiding potentially costly mistakes.\n",
    "3. Ensuring Compliance: In many industries, data must meet certain regulatory standards. Data validation helps ensure compliance with these regulations, reducing the risk of legal issues.\n",
    "4. Improving Decision-Making: Validated data leads to more accurate analysis, which in turn supports better decision-making. Organizations can trust the insights derived from their data, leading to more informed and effective strategies.\n",
    "5. Building Trust: When data is validated, stakeholders can have greater confidence in the results of data analysis, leading to increased trust in the data-driven processes.\n",
    "\n",
    "6.2 Techniques List and Definition\n",
    "\n",
    "1. Consistency Checks\n",
    "2. Range Checks\n",
    "3. Uniqueness Checks\n",
    "4. Cross-Field Validation\n",
    "5. Pattern Matching"
   ]
  },
  {
   "cell_type": "markdown",
   "metadata": {},
   "source": [
    "6.2.1 Consistency Checks\n",
    "\n",
    "Consistency checks verify that data values are logically coherent and adhere to predefined rules. They ensure that data fields are not contradictory and meet the expected relationships between different data points."
   ]
  },
  {
   "cell_type": "code",
   "execution_count": 21,
   "metadata": {},
   "outputs": [
    {
     "name": "stdout",
     "output_type": "stream",
     "text": [
      "Consistency Check Results:\n",
      "  Product Name  Price  Price Consistent\n",
      "0     Widget A  19.99              True\n",
      "1     Widget B  29.99              True\n",
      "2          NaN  15.00              True\n",
      "3     Widget D    NaN             False\n",
      "4     Widget E   9.99              True\n",
      "5     Widget F  25.00              True\n",
      "6     Widget G    NaN             False\n",
      "7     Widget H  39.99              True\n",
      "8     Widget I    NaN             False\n",
      "9     Widget J  49.99              True\n"
     ]
    }
   ],
   "source": [
    "import pandas as pd\n",
    "\n",
    "# Load the dataset\n",
    "df = pd.read_csv('D:/Projects/Data-cleaning-series/Chapter06 Data Validation/Products.csv')\n",
    "\n",
    "# Example consistency check: Ensure 'Price' is always positive\n",
    "df['Price Consistent'] = df['Price'].apply(lambda x: x > 0)\n",
    "\n",
    "# Print results\n",
    "print(\"Consistency Check Results:\")\n",
    "print(df[['Product Name', 'Price', 'Price Consistent']])\n"
   ]
  },
  {
   "cell_type": "markdown",
   "metadata": {},
   "source": [
    "Explanation:\n",
    "\n",
    "Purpose: Checks that all values in the 'Price' column are positive.\n",
    "\n",
    "Code Breakdown:\n",
    "  df['Price'].apply(lambda x: x > 0): Applies a function to check if 'Price' values are positive.\n",
    "  df['Price Consistent']: Adds a new column indicating whether each 'Price' value passes the consistency check."
   ]
  },
  {
   "cell_type": "markdown",
   "metadata": {},
   "source": [
    "6.2.2 Range Checks\n",
    "\n",
    "Range checks ensure that data values fall within a specified range. This technique is used to validate that numerical data falls within acceptable limits."
   ]
  },
  {
   "cell_type": "code",
   "execution_count": 22,
   "metadata": {},
   "outputs": [
    {
     "name": "stdout",
     "output_type": "stream",
     "text": [
      "Range Check Results:\n",
      "  Product Name  Stock  Stock Valid\n",
      "0     Widget A  100.0         True\n",
      "1     Widget B    NaN        False\n",
      "2          NaN   50.0         True\n",
      "3     Widget D  200.0         True\n",
      "4     Widget E   10.0         True\n",
      "5     Widget F    0.0         True\n",
      "6     Widget G  150.0         True\n",
      "7     Widget H   75.0         True\n",
      "8     Widget I    NaN        False\n",
      "9     Widget J   60.0         True\n"
     ]
    }
   ],
   "source": [
    "import pandas as pd\n",
    "\n",
    "# Load the dataset\n",
    "df = pd.read_csv('D:/Projects/Data-cleaning-series/Chapter06 Data Validation/Products.csv')\n",
    "\n",
    "# Example range check: Ensure 'Stock' is within 0 to 1000\n",
    "df['Stock Valid'] = df['Stock'].apply(lambda x: 0 <= x <= 1000)\n",
    "\n",
    "# Print results\n",
    "print(\"Range Check Results:\")\n",
    "print(df[['Product Name', 'Stock', 'Stock Valid']])\n"
   ]
  },
  {
   "cell_type": "markdown",
   "metadata": {},
   "source": [
    "Explanation:\n",
    "\n",
    "Purpose: Validates that 'Stock' values are between 0 and 1000.\n",
    "\n",
    "Code Breakdown:\n",
    "  df['Stock'].apply(lambda x: 0 <= x <= 1000): Applies a function to check if 'Stock' values are within the specified range.\n",
    "  df['Stock Valid']: Adds a new column indicating whether each 'Stock' value falls within the valid range."
   ]
  },
  {
   "cell_type": "markdown",
   "metadata": {},
   "source": [
    "6.2.3 Uniqueness Checks\n",
    "\n",
    "Uniqueness checks ensure that each value in a column is unique, which is essential for columns that require unique identifiers."
   ]
  },
  {
   "cell_type": "code",
   "execution_count": 23,
   "metadata": {},
   "outputs": [
    {
     "name": "stdout",
     "output_type": "stream",
     "text": [
      "Uniqueness Check Results:\n",
      "   Product ID  Unique Product ID\n",
      "0           1              False\n",
      "1           2              False\n",
      "2           3              False\n",
      "3           4              False\n",
      "4           5              False\n",
      "5           6              False\n",
      "6           7              False\n",
      "7           8              False\n",
      "8           9              False\n",
      "9          10              False\n"
     ]
    }
   ],
   "source": [
    "import pandas as pd\n",
    "\n",
    "# Load the dataset\n",
    "df = pd.read_csv('D:/Projects/Data-cleaning-series/Chapter06 Data Validation/Products.csv')\n",
    "\n",
    "# Example uniqueness check: Ensure 'Product ID' is unique\n",
    "df['Unique Product ID'] = df['Product ID'].duplicated(keep=False)\n",
    "\n",
    "# Print results\n",
    "print(\"Uniqueness Check Results:\")\n",
    "print(df[['Product ID', 'Unique Product ID']])\n"
   ]
  },
  {
   "cell_type": "markdown",
   "metadata": {},
   "source": [
    "Explanation:\n",
    "\n",
    "Purpose: Checks for duplicate 'Product ID' values to ensure uniqueness.\n",
    "\n",
    "Code Breakdown:\n",
    "  df['Product ID'].duplicated(keep=False): Identifies duplicated values in the 'Product ID' column.\n",
    "  df['Unique Product ID']: Adds a new column indicating whether each 'Product ID' is duplicated."
   ]
  },
  {
   "cell_type": "markdown",
   "metadata": {},
   "source": [
    "6.2.4 Cross-Field Validation\n",
    "\n",
    "Cross-field validation checks the consistency between different fields in the dataset. It ensures that relationships between fields are valid and logical."
   ]
  },
  {
   "cell_type": "code",
   "execution_count": 24,
   "metadata": {},
   "outputs": [
    {
     "name": "stdout",
     "output_type": "stream",
     "text": [
      "Cross-Field Validation Results:\n",
      "  Product Name  Price  Stock  Stock Valid if Price Present\n",
      "0     Widget A  19.99  100.0                          True\n",
      "1     Widget B  29.99    NaN                         False\n",
      "2          NaN  15.00   50.0                          True\n",
      "3     Widget D    NaN  200.0                          True\n",
      "4     Widget E   9.99   10.0                          True\n",
      "5     Widget F  25.00    0.0                          True\n",
      "6     Widget G    NaN  150.0                          True\n",
      "7     Widget H  39.99   75.0                          True\n",
      "8     Widget I    NaN    NaN                          True\n",
      "9     Widget J  49.99   60.0                          True\n"
     ]
    }
   ],
   "source": [
    "import pandas as pd\n",
    "\n",
    "# Load the dataset\n",
    "df = pd.read_csv('D:/Projects/Data-cleaning-series/Chapter06 Data Validation/Products.csv')\n",
    "\n",
    "# Example cross-field validation: Ensure 'Stock' is non-negative if 'Price' is present\n",
    "df['Stock Valid if Price Present'] = df.apply(lambda row: row['Stock'] >= 0 if pd.notna(row['Price']) else True, axis=1)\n",
    "\n",
    "# Print results\n",
    "print(\"Cross-Field Validation Results:\")\n",
    "print(df[['Product Name', 'Price', 'Stock', 'Stock Valid if Price Present']])"
   ]
  },
  {
   "cell_type": "markdown",
   "metadata": {},
   "source": [
    "Explanation:\n",
    "\n",
    "Purpose: Validates that 'Stock' is non-negative when 'Price' is present.\n",
    "\n",
    "Code Breakdown:\n",
    "    df.apply(lambda row: row['Stock'] >= 0 if pd.notna(row['Price']) else True, axis=1): Applies a function to validate 'Stock' based on the presence of 'Price'.\n",
    "    df['Stock Valid if Price Present']: Adds a new column indicating whether the 'Stock' value is valid if 'Price' is present."
   ]
  },
  {
   "cell_type": "markdown",
   "metadata": {},
   "source": [
    "6.2.5 Pattern Matching\n",
    "\n",
    "Pattern matching ensures that data values conform to specific formats, such as email addresses or phone numbers."
   ]
  },
  {
   "cell_type": "code",
   "execution_count": 25,
   "metadata": {},
   "outputs": [
    {
     "name": "stdout",
     "output_type": "stream",
     "text": [
      "Pattern Matching Results:\n",
      "  Product Name               Description  Valid Description\n",
      "0     Widget A     A high-quality widget               True\n",
      "1     Widget B                       NaN              False\n",
      "2          NaN       Durable and stylish               True\n",
      "3     Widget D        A versatile widget               True\n",
      "4     Widget E     Compact and efficient               True\n",
      "5     Widget F  Latest technology widget               True\n",
      "6     Widget G      Multi-purpose widget               True\n",
      "7     Widget H           Premium quality               True\n",
      "8     Widget I         Advanced features               True\n",
      "9     Widget J             Best in class               True\n"
     ]
    }
   ],
   "source": [
    "import pandas as pd\n",
    "import re\n",
    "\n",
    "# Load the dataset\n",
    "df = pd.read_csv('D:/Projects/Data-cleaning-series/Chapter06 Data Validation/Products.csv')\n",
    "\n",
    "# Example pattern matching: Validate 'Description' is a non-empty string\n",
    "df['Valid Description'] = df['Description'].apply(lambda x: isinstance(x, str) and bool(x.strip()))\n",
    "\n",
    "# Print results\n",
    "print(\"Pattern Matching Results:\")\n",
    "print(df[['Product Name', 'Description', 'Valid Description']])\n"
   ]
  },
  {
   "cell_type": "markdown",
   "metadata": {},
   "source": [
    "Explanation:\n",
    "\n",
    "Purpose: Checks that 'Description' is a non-empty string.\n",
    "\n",
    "Code Breakdown:\n",
    "    df['Description'].apply(lambda x: isinstance(x, str) and bool(x.strip())): Applies a function to ensure 'Description' is a non-empty string.\n",
    "    df['Valid Description']: Adds a new column indicating whether the 'Description' is valid."
   ]
  }
 ],
 "metadata": {
  "kernelspec": {
   "display_name": "base",
   "language": "python",
   "name": "python3"
  },
  "language_info": {
   "codemirror_mode": {
    "name": "ipython",
    "version": 3
   },
   "file_extension": ".py",
   "mimetype": "text/x-python",
   "name": "python",
   "nbconvert_exporter": "python",
   "pygments_lexer": "ipython3",
   "version": "3.12.4"
  }
 },
 "nbformat": 4,
 "nbformat_minor": 2
}
