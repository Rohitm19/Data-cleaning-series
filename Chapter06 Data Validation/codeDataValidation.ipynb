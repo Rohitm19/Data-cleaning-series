{
 "cells": [
  {
   "cell_type": "markdown",
   "metadata": {},
   "source": [
    "6.1 Introduction\n",
    "Data validation is the process of ensuring that the data entered into a system meets certain criteria or standards. It is essential for maintaining the accuracy and integrity of data, preventing errors, and ensuring that the data is suitable for analysis and decision-making.\n",
    "\n",
    "Definition\n",
    "Data validation involves checking data against a set of rules or constraints to ensure that it is accurate, complete, and reliable. This process includes verifying data types, ranges, and formats, as well as identifying and handling inconsistencies or anomalies.\n",
    "\n",
    "Objective\n",
    "A. The objective of data validation is to:\n",
    "B. Ensure data accuracy and consistency.\n",
    "C. Prevent entry of incorrect or invalid data.\n",
    "D. Improve data quality and reliability.\n",
    "E. Facilitate better data-driven decision-making.\n",
    "\n",
    "Importance\n",
    "Accuracy: Ensures data entered is correct, reducing errors in analysis.\n",
    "Consistency: Maintains uniformity in data entry and format.\n",
    "Reliability: Enhances the trustworthiness of data used in decision-making.\n",
    "Efficiency: Prevents errors and discrepancies, saving time and resources in data processing.\n",
    "\n",
    "6.2 Techniques List and Definition\n",
    "1. Consistency Checks\n",
    "2. Range Checks\n",
    "3. Uniqueness Checks\n",
    "4. Cross-Field Validation\n",
    "5. Pattern Matching"
   ]
  },
  {
   "cell_type": "markdown",
   "metadata": {},
   "source": [
    "6.2.1 Consistency Checks\n",
    "\n",
    "Introduction:\n",
    "Consistency checks verify that data values are logically coherent and adhere to predefined rules. They ensure that data fields are not contradictory and meet the expected relationships between different data points."
   ]
  },
  {
   "cell_type": "code",
   "execution_count": 1,
   "metadata": {},
   "outputs": [
    {
     "name": "stdout",
     "output_type": "stream",
     "text": [
      "Consistency Check Results:\n",
      "  Product Name  Price  Price Consistent\n",
      "0     Widget A  19.99              True\n",
      "1     Widget B  29.99              True\n",
      "2          NaN  15.00              True\n",
      "3     Widget D    NaN             False\n",
      "4     Widget E   9.99              True\n",
      "5     Widget F  25.00              True\n",
      "6     Widget G    NaN             False\n",
      "7     Widget H  39.99              True\n",
      "8     Widget I    NaN             False\n",
      "9     Widget J  49.99              True\n"
     ]
    }
   ],
   "source": [
    "import pandas as pd\n",
    "\n",
    "# Load the dataset\n",
    "df = pd.read_csv('D:/Projects/Data-cleaning-series/Chapter06 Data Validation/Products.csv')\n",
    "\n",
    "# Example consistency check: Ensure 'Price' is always positive\n",
    "df['Price Consistent'] = df['Price'].apply(lambda x: x > 0)\n",
    "\n",
    "# Print results\n",
    "print(\"Consistency Check Results:\")\n",
    "print(df[['Product Name', 'Price', 'Price Consistent']])\n"
   ]
  },
  {
   "cell_type": "markdown",
   "metadata": {},
   "source": [
    "Explanation:\n",
    "\n",
    "Purpose: Checks that all values in the 'Price' column are positive.\n",
    "\n",
    "Code Breakdown:\n",
    "  df['Price'].apply(lambda x: x > 0): Applies a function to check if 'Price' values are positive.\n",
    "  df['Price Consistent']: Adds a new column indicating whether each 'Price' value passes the consistency check."
   ]
  },
  {
   "cell_type": "markdown",
   "metadata": {},
   "source": [
    "6.2.2 Range Checks\n",
    "\n",
    "Introduction:\n",
    "Range checks ensure that data values fall within a specified range. This technique is used to validate that numerical data falls within acceptable limits."
   ]
  },
  {
   "cell_type": "code",
   "execution_count": 2,
   "metadata": {},
   "outputs": [
    {
     "name": "stdout",
     "output_type": "stream",
     "text": [
      "Range Check Results:\n",
      "  Product Name  Stock  Stock Valid\n",
      "0     Widget A  100.0         True\n",
      "1     Widget B    NaN        False\n",
      "2          NaN   50.0         True\n",
      "3     Widget D  200.0         True\n",
      "4     Widget E   10.0         True\n",
      "5     Widget F    0.0         True\n",
      "6     Widget G  150.0         True\n",
      "7     Widget H   75.0         True\n",
      "8     Widget I    NaN        False\n",
      "9     Widget J   60.0         True\n"
     ]
    }
   ],
   "source": [
    "import pandas as pd\n",
    "\n",
    "# Load the dataset\n",
    "df = pd.read_csv('D:/Projects/Data-cleaning-series/Chapter06 Data Validation/Products.csv')\n",
    "\n",
    "# Example range check: Ensure 'Stock' is within 0 to 1000\n",
    "df['Stock Valid'] = df['Stock'].apply(lambda x: 0 <= x <= 1000)\n",
    "\n",
    "# Print results\n",
    "print(\"Range Check Results:\")\n",
    "print(df[['Product Name', 'Stock', 'Stock Valid']])\n"
   ]
  },
  {
   "cell_type": "markdown",
   "metadata": {},
   "source": [
    "Explanation:\n",
    "\n",
    "Purpose: Validates that 'Stock' values are between 0 and 1000.\n",
    "\n",
    "Code Breakdown:\n",
    "  df['Stock'].apply(lambda x: 0 <= x <= 1000): Applies a function to check if 'Stock' values are within the specified range.\n",
    "  df['Stock Valid']: Adds a new column indicating whether each 'Stock' value falls within the valid range."
   ]
  },
  {
   "cell_type": "markdown",
   "metadata": {},
   "source": [
    "3.2.3 Uniqueness Checks\n",
    "\n",
    "Introduction:\n",
    "Uniqueness checks ensure that each value in a column is unique, which is essential for columns that require unique identifiers."
   ]
  },
  {
   "cell_type": "code",
   "execution_count": 3,
   "metadata": {},
   "outputs": [
    {
     "name": "stdout",
     "output_type": "stream",
     "text": [
      "Uniqueness Check Results:\n",
      "   Product ID  Unique Product ID\n",
      "0           1              False\n",
      "1           2              False\n",
      "2           3              False\n",
      "3           4              False\n",
      "4           5              False\n",
      "5           6              False\n",
      "6           7              False\n",
      "7           8              False\n",
      "8           9              False\n",
      "9          10              False\n"
     ]
    }
   ],
   "source": [
    "import pandas as pd\n",
    "\n",
    "# Load the dataset\n",
    "df = pd.read_csv('D:/Projects/Data-cleaning-series/Chapter06 Data Validation/Products.csv')\n",
    "\n",
    "# Example uniqueness check: Ensure 'Product ID' is unique\n",
    "df['Unique Product ID'] = df['Product ID'].duplicated(keep=False)\n",
    "\n",
    "# Print results\n",
    "print(\"Uniqueness Check Results:\")\n",
    "print(df[['Product ID', 'Unique Product ID']])\n"
   ]
  },
  {
   "cell_type": "markdown",
   "metadata": {},
   "source": [
    "Explanation:\n",
    "\n",
    "Purpose: Checks for duplicate 'Product ID' values to ensure uniqueness.\n",
    "\n",
    "Code Breakdown:\n",
    "  df['Product ID'].duplicated(keep=False): Identifies duplicated values in the 'Product ID' column.\n",
    "  df['Unique Product ID']: Adds a new column indicating whether each 'Product ID' is duplicated."
   ]
  }
 ],
 "metadata": {
  "kernelspec": {
   "display_name": "base",
   "language": "python",
   "name": "python3"
  },
  "language_info": {
   "codemirror_mode": {
    "name": "ipython",
    "version": 3
   },
   "file_extension": ".py",
   "mimetype": "text/x-python",
   "name": "python",
   "nbconvert_exporter": "python",
   "pygments_lexer": "ipython3",
   "version": "3.12.4"
  }
 },
 "nbformat": 4,
 "nbformat_minor": 2
}
