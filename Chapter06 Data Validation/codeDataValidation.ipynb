{
 "cells": [
  {
   "cell_type": "markdown",
   "metadata": {},
   "source": [
    "6.1 Introduction\n",
    "Data validation is the process of ensuring that the data entered into a system meets certain criteria or standards. It is essential for maintaining the accuracy and integrity of data, preventing errors, and ensuring that the data is suitable for analysis and decision-making.\n",
    "\n",
    "Definition\n",
    "Data validation involves checking data against a set of rules or constraints to ensure that it is accurate, complete, and reliable. This process includes verifying data types, ranges, and formats, as well as identifying and handling inconsistencies or anomalies.\n",
    "\n",
    "Objective\n",
    "A. The objective of data validation is to:\n",
    "B. Ensure data accuracy and consistency.\n",
    "C. Prevent entry of incorrect or invalid data.\n",
    "D. Improve data quality and reliability.\n",
    "E. Facilitate better data-driven decision-making.\n",
    "\n",
    "Importance\n",
    "Accuracy: Ensures data entered is correct, reducing errors in analysis.\n",
    "Consistency: Maintains uniformity in data entry and format.\n",
    "Reliability: Enhances the trustworthiness of data used in decision-making.\n",
    "Efficiency: Prevents errors and discrepancies, saving time and resources in data processing.\n",
    "\n",
    "6.2 Techniques List and Definition\n",
    "1. Consistency Checks\n",
    "2. Range Checks\n",
    "3. Uniqueness Checks\n",
    "4. Cross-Field Validation\n",
    "5. Pattern Matching"
   ]
  }
 ],
 "metadata": {
  "language_info": {
   "name": "python"
  }
 },
 "nbformat": 4,
 "nbformat_minor": 2
}
