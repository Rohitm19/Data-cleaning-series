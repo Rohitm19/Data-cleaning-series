{
 "cells": [
  {
   "cell_type": "markdown",
   "metadata": {},
   "source": [
    "7.1 Introduction\n",
    "\n",
    "Data type conversion, also known as data casting or data type coercion, is a critical aspect of data processing that involves changing the data type of one or more columns within a dataset to another data type. This process is essential for ensuring that data is correctly interpreted and utilized by various operations, algorithms, or systems that rely on specific data types. Inaccurate data types can lead to processing errors, inaccurate analysis, and unexpected behavior in data-driven applications.\n",
    "\n",
    "Data is often collected from diverse sources, each with its own way of representing information. For instance, a date might be stored as a string in one system and as an integer timestamp in another. Similarly, numeric values might be stored as text due to inconsistent data entry practices. Such discrepancies necessitate the conversion of data types to ensure that all data points are uniformly interpreted and handled by the analysis tools or models being employed. Data Type Conversion thus plays a pivotal role in preparing raw data for meaningful analysis.\n",
    "\n",
    "Definition\n",
    "\n",
    "Data Type Conversion refers to the process of transforming data from one type to another, such as converting a string to a date, an integer to a float, or a boolean to an integer. This process can be either explicit, where the data type is manually changed by the user, or implicit, where the programming environment automatically converts the data type based on the operation being performed.\n",
    "\n",
    "Common data types include:\n",
    "\n",
    "1. String (object): Text or categorical data.\n",
    "2. Integer: Whole numbers, often used for counting.\n",
    "3. Float (decimal): Numbers with decimal points, representing continuous data.\n",
    "4. Boolean: Binary values, typically True or False.\n",
    "5. Datetime: Dates and times, often used in time series analysis.\n",
    "6. Categorical: Discrete data types that represent categories.\n",
    "7. Each data type has specific operations that can be performed on it, and using the wrong type can result in errors or inaccurate results. For example, trying to perform mathematical operations on a column of strings instead of numbers will lead to errors or meaningless results.\n",
    "\n",
    "Objective\n",
    "\n",
    "The primary objective of data type conversion is to align the data types of columns with the requirements of the analytical operations, models, or systems that will be using the data. The process aims to ensure that data is in the correct format and can be processed efficiently and accurately without any type-related errors.\n",
    "\n",
    "The goals of data type conversion include:\n",
    "\n",
    "1. Accuracy: Ensuring that data is accurately represented and interpreted according to its intended use.\n",
    "2. Compatibility: Making data compatible with different tools, libraries, or models that require specific data types.\n",
    "3. Efficiency: Enhancing the efficiency of data processing by ensuring that operations are performed on correctly typed data.\n",
    "4. Error Prevention: Preventing errors and unexpected behavior that can arise from incompatible data types.\n",
    "5. Standardization: Standardizing data formats across different sources to enable seamless integration and analysis.\n",
    "\n",
    "Importance\n",
    "\n",
    "Data type conversion is vital for several reasons:\n",
    "\n",
    "1. Data Integrity: Correct data types ensure that data is interpreted as intended, preserving the integrity of the information.\n",
    "Operational Accuracy: Many analytical operations require specific data types to function correctly. Converting data to the appropriate type ensures that these operations yield accurate results.\n",
    "2. System Compatibility: Different systems and tools may have specific data type requirements. Ensuring compatibility through data type conversion facilitates smooth data exchange and processing across platforms.\n",
    "3. Preventing Errors: Incorrect data types can lead to processing errors, calculation mistakes, or even system crashes. Data type conversion helps mitigate these risks by aligning data with the expected formats.\n",
    "Enhanced Performance: Properly typed data allows for more efficient processing, reducing computational overhead and improving the performance of data-driven applications.\n",
    "\n",
    "Techniques List and Definition\n",
    "1. Converting Strings to Numbers\n",
    "2. Converting Numbers to Strings\n",
    "3. Converting Dates to DateTime Format\n",
    "4. Handling Missing Data During Conversion\n",
    "5. Casting to Specific Data Types"
   ]
  },
  {
   "cell_type": "markdown",
   "metadata": {},
   "source": [
    "7.1.1 Converting Strings to Numbers\n",
    "\n",
    "Converting strings to numbers is a common data type conversion technique, especially when numeric data is stored as text. This conversion is essential for performing mathematical operations or comparisons."
   ]
  },
  {
   "cell_type": "code",
   "execution_count": 9,
   "metadata": {},
   "outputs": [
    {
     "name": "stdout",
     "output_type": "stream",
     "text": [
      "Converted 'Price' column to numeric:\n",
      "  Product Name  Price\n",
      "0     Widget A  19.99\n",
      "1     Widget B  29.99\n",
      "2          NaN  15.00\n",
      "3     Widget D    NaN\n",
      "4     Widget E   9.99\n",
      "5     Widget F  25.00\n",
      "6     Widget G    NaN\n",
      "7     Widget H  39.99\n",
      "8     Widget I    NaN\n",
      "9     Widget J  49.99\n"
     ]
    }
   ],
   "source": [
    "import pandas as pd\n",
    "\n",
    "# Load the dataset\n",
    "df = pd.read_csv('D:/Projects/Data-cleaning-series/Chapter07 Data Type Conversion/Products.csv')\n",
    "\n",
    "# Example conversion: Convert 'Price' from string to float\n",
    "df['Price'] = pd.to_numeric(df['Price'], errors='coerce')\n",
    "\n",
    "# Print results\n",
    "print(\"Converted 'Price' column to numeric:\")\n",
    "print(df[['Product Name', 'Price']])\n"
   ]
  },
  {
   "cell_type": "markdown",
   "metadata": {},
   "source": [
    "Explanation:\n",
    "\n",
    "Purpose: Converts the 'Price' column from string to float to allow for mathematical operations.\n",
    "\n",
    "Code Breakdown:\n",
    "    pd.to_numeric(df['Price'], errors='coerce'): Converts 'Price' to a numeric data type, coercing any non-convertible values to NaN.\n",
    "    The result is that 'Price' is now in a numeric format, enabling calculations.\n"
   ]
  },
  {
   "cell_type": "markdown",
   "metadata": {},
   "source": [
    "7.2.2 Converting Numbers to Strings\n",
    "\n",
    "Converting numbers to strings is useful when you need to treat numeric data as categorical or when preparing data for output, such as saving to a CSV file or generating reports."
   ]
  },
  {
   "cell_type": "code",
   "execution_count": 10,
   "metadata": {},
   "outputs": [
    {
     "name": "stdout",
     "output_type": "stream",
     "text": [
      "Converted 'Product ID' column to string:\n",
      "  Product Name Product ID\n",
      "0     Widget A          1\n",
      "1     Widget B          2\n",
      "2          NaN          3\n",
      "3     Widget D          4\n",
      "4     Widget E          5\n",
      "5     Widget F          6\n",
      "6     Widget G          7\n",
      "7     Widget H          8\n",
      "8     Widget I          9\n",
      "9     Widget J         10\n"
     ]
    }
   ],
   "source": [
    "import pandas as pd\n",
    "\n",
    "# Load the dataset\n",
    "df = pd.read_csv('D:/Projects/Data-cleaning-series/Chapter07 Data Type Conversion/Products.csv')\n",
    "\n",
    "# Example conversion: Convert 'Product ID' from integer to string\n",
    "df['Product ID'] = df['Product ID'].astype(str)\n",
    "\n",
    "# Print results\n",
    "print(\"Converted 'Product ID' column to string:\")\n",
    "print(df[['Product Name', 'Product ID']])"
   ]
  },
  {
   "cell_type": "markdown",
   "metadata": {},
   "source": [
    "Explanation:\n",
    "\n",
    "Purpose: Converts the 'Product ID' column from an integer to a string to treat it as categorical data.\n",
    "\n",
    "Code Breakdown:\n",
    "    df['Product ID'].astype(str): Converts the 'Product ID' column to a string data type.\n",
    "    This is useful when 'Product ID' should be handled as a non-numeric identifier."
   ]
  },
  {
   "cell_type": "markdown",
   "metadata": {},
   "source": [
    "7.2.3 Handling Missing Data During Conversion\n",
    "\n",
    "Handling missing data during conversion is crucial to prevent errors and ensure data integrity. This technique involves addressing missing values before or during the data type conversion process"
   ]
  },
  {
   "cell_type": "code",
   "execution_count": 11,
   "metadata": {},
   "outputs": [
    {
     "name": "stdout",
     "output_type": "stream",
     "text": [
      "Converted 'Stock' column to integer, with missing values handled:\n",
      "  Product Name  Stock\n",
      "0     Widget A    100\n",
      "1     Widget B      0\n",
      "2          NaN     50\n",
      "3     Widget D    200\n",
      "4     Widget E     10\n",
      "5     Widget F      0\n",
      "6     Widget G    150\n",
      "7     Widget H     75\n",
      "8     Widget I      0\n",
      "9     Widget J     60\n"
     ]
    }
   ],
   "source": [
    "import pandas as pd\n",
    "\n",
    "# Load the dataset\n",
    "df = pd.read_csv('D:/Projects/Data-cleaning-series/Chapter07 Data Type Conversion/Products.csv')\n",
    "\n",
    "# Example handling: Convert 'Stock' to integer, filling missing values with a default\n",
    "df['Stock'] = pd.to_numeric(df['Stock'], errors='coerce').fillna(0).astype(int)\n",
    "\n",
    "# Print results\n",
    "print(\"Converted 'Stock' column to integer, with missing values handled:\")\n",
    "print(df[['Product Name', 'Stock']])"
   ]
  },
  {
   "cell_type": "markdown",
   "metadata": {},
   "source": [
    "Explanation:\n",
    "\n",
    "Purpose: Converts the 'Stock' column to an integer, filling any missing values with 0.\n",
    "\n",
    "Code Breakdown:\n",
    "    pd.to_numeric(df['Stock'], errors='coerce'): Converts 'Stock' to numeric, coercing errors to NaN.\n",
    "    .fillna(0).astype(int): Replaces NaN with 0 and converts the result to an integer.\n",
    "    This approach ensures that all 'Stock' values are integers and handles any missing data gracefully."
   ]
  },
  {
   "cell_type": "markdown",
   "metadata": {},
   "source": [
    "7.2.4 Casting to Specific Data Types\n",
    "\n",
    "Casting to specific data types ensures that each column in a dataset has the correct data type for its intended use. This technique is often used to optimize performance or meet the requirements of specific algorithms or functions."
   ]
  },
  {
   "cell_type": "code",
   "execution_count": 12,
   "metadata": {},
   "outputs": [
    {
     "name": "stdout",
     "output_type": "stream",
     "text": [
      "Casted 'Product ID' to string and 'Price' to float:\n",
      "Product ID       object\n",
      "Product Name     object\n",
      "Price           float64\n",
      "Category         object\n",
      "Stock           float64\n",
      "Description      object\n",
      "dtype: object\n"
     ]
    }
   ],
   "source": [
    "import pandas as pd\n",
    "\n",
    "# Load the dataset\n",
    "df = pd.read_csv('D:/Projects/Data-cleaning-series/Chapter07 Data Type Conversion/Products.csv')\n",
    "\n",
    "# Example casting: Explicitly cast 'Product ID' to string and 'Price' to float\n",
    "df = df.astype({'Product ID': 'str', 'Price': 'float'})\n",
    "\n",
    "# Print results\n",
    "print(\"Casted 'Product ID' to string and 'Price' to float:\")\n",
    "print(df.dtypes)"
   ]
  },
  {
   "cell_type": "markdown",
   "metadata": {},
   "source": [
    "Explanation:\n",
    "\n",
    "Purpose: Explicitly casts 'Product ID' to a string and 'Price' to a float for consistent data handling.\n",
    "\n",
    "Code Breakdown:\n",
    "    df.astype({'Product ID': 'str', 'Price': 'float'}): Converts 'Product ID' to a string and 'Price' to a float.\n",
    "    This ensures that each column has the correct data type for analysis or modeling."
   ]
  }
 ],
 "metadata": {
  "kernelspec": {
   "display_name": "base",
   "language": "python",
   "name": "python3"
  },
  "language_info": {
   "codemirror_mode": {
    "name": "ipython",
    "version": 3
   },
   "file_extension": ".py",
   "mimetype": "text/x-python",
   "name": "python",
   "nbconvert_exporter": "python",
   "pygments_lexer": "ipython3",
   "version": "3.12.4"
  }
 },
 "nbformat": 4,
 "nbformat_minor": 2
}
