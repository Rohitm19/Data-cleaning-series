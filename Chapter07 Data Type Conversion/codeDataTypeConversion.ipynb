{
 "cells": [
  {
   "cell_type": "markdown",
   "metadata": {},
   "source": [
    "7.1 Introduction\n",
    "Data type conversion, also known as data type casting, is the process of transforming data from one type to another. This is essential in data preprocessing to ensure that data is in the correct format for analysis, modeling, or storage. Converting data types allows for more efficient data handling and can prevent errors in further processing.\n",
    "\n",
    "Definition\n",
    "Data type conversion involves changing the data type of a variable from one form (e.g., string, integer, float) to another. This can be done to standardize data, make it compatible with specific functions or models, or correct data entry errors.\n",
    "\n",
    "Objective\n",
    "A. The objectives of data type conversion include:\n",
    "B. Ensuring data consistency across the dataset.\n",
    "C. Preparing data for specific types of analysis or operations.\n",
    "D. Correcting incorrect data types to prevent processing errors.\n",
    "E. Optimizing data storage and computational efficiency.\n",
    "\n",
    "Importance\n",
    "Accuracy: Ensures that data is in the correct format for analysis.\n",
    "Compatibility: Makes data suitable for use with specific tools, models, or algorithms.\n",
    "Efficiency: Optimizes memory usage and processing speed by using appropriate data types.\n",
    "Error Prevention: Reduces the likelihood of errors caused by incompatible or incorrect data types.\n",
    "\n",
    "Techniques List and Definition\n",
    "1. Converting Strings to Numbers\n",
    "2. Converting Numbers to Strings\n",
    "3. Converting Dates to DateTime Format\n",
    "4. Handling Missing Data During Conversion\n",
    "5. Casting to Specific Data Types"
   ]
  },
  {
   "cell_type": "markdown",
   "metadata": {},
   "source": [
    "7.1.1 Converting Strings to Numbers\n",
    "\n",
    "Introduction:\n",
    "Converting strings to numbers is a common data type conversion technique, especially when numeric data is stored as text. This conversion is essential for performing mathematical operations or comparisons."
   ]
  },
  {
   "cell_type": "code",
   "execution_count": 1,
   "metadata": {},
   "outputs": [
    {
     "name": "stdout",
     "output_type": "stream",
     "text": [
      "Converted 'Price' column to numeric:\n",
      "  Product Name  Price\n",
      "0     Widget A  19.99\n",
      "1     Widget B  29.99\n",
      "2          NaN  15.00\n",
      "3     Widget D    NaN\n",
      "4     Widget E   9.99\n",
      "5     Widget F  25.00\n",
      "6     Widget G    NaN\n",
      "7     Widget H  39.99\n",
      "8     Widget I    NaN\n",
      "9     Widget J  49.99\n"
     ]
    }
   ],
   "source": [
    "import pandas as pd\n",
    "\n",
    "# Load the dataset\n",
    "df = pd.read_csv('D:/Projects/Data-cleaning-series/Chapter07 Data Type Conversion/Products.csv')\n",
    "\n",
    "# Example conversion: Convert 'Price' from string to float\n",
    "df['Price'] = pd.to_numeric(df['Price'], errors='coerce')\n",
    "\n",
    "# Print results\n",
    "print(\"Converted 'Price' column to numeric:\")\n",
    "print(df[['Product Name', 'Price']])\n"
   ]
  },
  {
   "cell_type": "markdown",
   "metadata": {},
   "source": [
    "Explanation:\n",
    "\n",
    "Purpose: Converts the 'Price' column from string to float to allow for mathematical operations.\n",
    "\n",
    "Code Breakdown:\n",
    "    pd.to_numeric(df['Price'], errors='coerce'): Converts 'Price' to a numeric data type, coercing any non-convertible values to NaN.\n",
    "    The result is that 'Price' is now in a numeric format, enabling calculations.\n"
   ]
  },
  {
   "cell_type": "markdown",
   "metadata": {},
   "source": [
    "7.2.2 Converting Numbers to Strings\n",
    "\n",
    "Introduction:\n",
    "Converting numbers to strings is useful when you need to treat numeric data as categorical or when preparing data for output, such as saving to a CSV file or generating reports."
   ]
  },
  {
   "cell_type": "code",
   "execution_count": 2,
   "metadata": {},
   "outputs": [
    {
     "name": "stdout",
     "output_type": "stream",
     "text": [
      "Converted 'Product ID' column to string:\n",
      "  Product Name Product ID\n",
      "0     Widget A          1\n",
      "1     Widget B          2\n",
      "2          NaN          3\n",
      "3     Widget D          4\n",
      "4     Widget E          5\n",
      "5     Widget F          6\n",
      "6     Widget G          7\n",
      "7     Widget H          8\n",
      "8     Widget I          9\n",
      "9     Widget J         10\n"
     ]
    }
   ],
   "source": [
    "import pandas as pd\n",
    "\n",
    "# Load the dataset\n",
    "df = pd.read_csv('D:/Projects/Data-cleaning-series/Chapter07 Data Type Conversion/Products.csv')\n",
    "\n",
    "# Example conversion: Convert 'Product ID' from integer to string\n",
    "df['Product ID'] = df['Product ID'].astype(str)\n",
    "\n",
    "# Print results\n",
    "print(\"Converted 'Product ID' column to string:\")\n",
    "print(df[['Product Name', 'Product ID']])"
   ]
  },
  {
   "cell_type": "markdown",
   "metadata": {},
   "source": [
    "Explanation:\n",
    "\n",
    "Purpose: Converts the 'Product ID' column from an integer to a string to treat it as categorical data.\n",
    "\n",
    "Code Breakdown:\n",
    "    df['Product ID'].astype(str): Converts the 'Product ID' column to a string data type.\n",
    "    This is useful when 'Product ID' should be handled as a non-numeric identifier."
   ]
  }
 ],
 "metadata": {
  "kernelspec": {
   "display_name": "base",
   "language": "python",
   "name": "python3"
  },
  "language_info": {
   "codemirror_mode": {
    "name": "ipython",
    "version": 3
   },
   "file_extension": ".py",
   "mimetype": "text/x-python",
   "name": "python",
   "nbconvert_exporter": "python",
   "pygments_lexer": "ipython3",
   "version": "3.12.4"
  }
 },
 "nbformat": 4,
 "nbformat_minor": 2
}
