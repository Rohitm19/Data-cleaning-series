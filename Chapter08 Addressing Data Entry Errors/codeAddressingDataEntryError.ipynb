{
 "cells": [
  {
   "cell_type": "markdown",
   "metadata": {},
   "source": [
    "8.1 Addressing Data Entry Errors\n",
    "\n",
    "Introduction\n",
    "Data entry errors are common issues encountered during data collection and processing. These errors can occur due to manual data entry mistakes, system glitches, or incorrect data sources. Addressing data entry errors is crucial for maintaining the quality and reliability of data used in analysis and decision-making.\n",
    "\n",
    "Definition\n",
    "Data entry errors refer to inaccuracies, inconsistencies, or mistakes that occur when data is entered into a database or system. These errors can include typos, incorrect formatting, transposed numbers, or misplaced values.\n",
    "\n",
    "Objective\n",
    "The objective of addressing data entry errors is to identify and correct inaccuracies in the dataset, ensuring that the data is accurate, consistent, and reliable for analysis. This step is essential for reducing errors in the final analysis and making informed decisions based on clean and accurate data.\n",
    "\n",
    "Importance\n",
    "Correcting data entry errors is vital because inaccurate data can lead to misleading conclusions, faulty analyses, and poor decision-making. By addressing these errors, organizations can ensure that their data-driven decisions are based on accurate and reliable information.\n",
    "\n",
    "8.2 Techniques List and Definitions\n",
    "1. Standardizing Formats: Ensure consistency in the format of data entries.\n",
    "2. Correcting Typos: Identify and correct common typographical errors.\n",
    "3. Handling Inconsistent Data: Resolve discrepancies in data entries to maintain uniformity.\n",
    "4. Validation Checks: Implement rules to catch and correct data entry errors.\n",
    "5. Automated Data Correction: Use algorithms to automatically detect and correct data entry errors."
   ]
  },
  {
   "cell_type": "markdown",
   "metadata": {},
   "source": [
    "8.2.1 Standardizing Formats\n",
    "\n",
    "Introduction\n",
    "Standardizing data formats involves ensuring that data entries follow a consistent format throughout the dataset. This is particularly important for fields like dates, phone numbers, and addresses, where variations in format can lead to inconsistencies and errors."
   ]
  },
  {
   "cell_type": "code",
   "execution_count": 1,
   "metadata": {},
   "outputs": [
    {
     "name": "stdout",
     "output_type": "stream",
     "text": [
      "   Product ID    Phone Number\n",
      "0           1  (123) 456-7890\n",
      "1           2  (123) 456-7890\n",
      "2           3  (123) 456-7890\n",
      "3           4  (123) 456-7890\n",
      "4           5  (123) 456-7890\n"
     ]
    }
   ],
   "source": [
    "import pandas as pd\n",
    "\n",
    "# Sample Data\n",
    "data = {'Product ID': [1, 2, 3, 4, 5],\n",
    "        'Phone Number': ['123-456-7890', '(123) 456-7890', '123.456.7890', '1234567890', '123 456 7890']}\n",
    "df = pd.DataFrame(data)\n",
    "\n",
    "# Standardizing Phone Number Format\n",
    "df['Phone Number'] = df['Phone Number'].str.replace(r'\\D', '', regex=True)  # Remove non-numeric characters\n",
    "df['Phone Number'] = df['Phone Number'].str.replace(r'(\\d{3})(\\d{3})(\\d{4})', r'(\\1) \\2-\\3', regex=True)\n",
    "\n",
    "print(df)"
   ]
  },
  {
   "cell_type": "markdown",
   "metadata": {},
   "source": [
    "Explanation\n",
    "\n",
    "In this code, we first remove all non-numeric characters from the phone number column. Then, we apply a consistent format, '(XXX) XXX-XXXX', to all entries. This ensures that all phone numbers follow the same format, making them easier to analyze and compare."
   ]
  },
  {
   "cell_type": "markdown",
   "metadata": {},
   "source": [
    "8.2.2 Correcting Typos\n",
    "\n",
    "Introduction\n",
    "Typos are common data entry errors, especially when data is manually entered. Correcting these typos involves identifying and fixing common spelling mistakes or incorrect entries in the dataset."
   ]
  },
  {
   "cell_type": "code",
   "execution_count": 1,
   "metadata": {},
   "outputs": [
    {
     "name": "stdout",
     "output_type": "stream",
     "text": [
      "   Product ID Product Name\n",
      "0           1     Widget A\n",
      "1           2     Widget B\n",
      "2           3     Widget C\n",
      "3           4     Widget D\n",
      "4           5     Widget E\n"
     ]
    }
   ],
   "source": [
    "import pandas as pd\n",
    "\n",
    "# Sample Data\n",
    "data = {'Product ID': [1, 2, 3, 4, 5],\n",
    "        'Product Name': ['Widget A', 'Widgit B', 'Widget C', 'Widdget D', 'Widget E']}\n",
    "df = pd.DataFrame(data)\n",
    "\n",
    "# Correcting Typos\n",
    "typo_corrections = {'Widgit B': 'Widget B', 'Widdget D': 'Widget D'}\n",
    "df['Product Name'] = df['Product Name'].replace(typo_corrections)\n",
    "\n",
    "print(df)"
   ]
  },
  {
   "cell_type": "markdown",
   "metadata": {},
   "source": [
    "Explanation\n",
    "\n",
    "In this example, we define a dictionary of common typos and their correct versions. We then use the replace method to correct these typos in the Product Name column. This ensures that all product names are consistent and free of errors."
   ]
  },
  {
   "cell_type": "markdown",
   "metadata": {},
   "source": [
    "8.2.3 Handling Inconsistent Data\n",
    "\n",
    "Introduction\n",
    "Inconsistent data entries can arise when different formats or naming conventions are used for the same data. Handling these inconsistencies involves standardizing the data so that it is uniform throughout the dataset."
   ]
  },
  {
   "cell_type": "code",
   "execution_count": 2,
   "metadata": {},
   "outputs": [
    {
     "name": "stdout",
     "output_type": "stream",
     "text": [
      "   Product ID     Category\n",
      "0           1  electronics\n",
      "1           2  electronics\n",
      "2           3  electronics\n",
      "3           4   home goods\n",
      "4           5   home goods\n"
     ]
    }
   ],
   "source": [
    "import pandas as pd\n",
    "\n",
    "# Sample Data\n",
    "data = {'Product ID': [1, 2, 3, 4, 5],\n",
    "        'Category': ['electronics', 'Electronics', 'ELECTRONICS', 'home goods', 'Home Goods']}\n",
    "df = pd.DataFrame(data)\n",
    "\n",
    "# Standardizing Categories\n",
    "df['Category'] = df['Category'].str.lower()  # Convert all entries to lowercase\n",
    "\n",
    "print(df)\n"
   ]
  },
  {
   "cell_type": "markdown",
   "metadata": {},
   "source": [
    "Explanation\n",
    "This code converts all entries in the Category column to lowercase, ensuring consistency. By standardizing the text case, we eliminate discrepancies caused by variations in capitalization, making the data easier to analyze."
   ]
  }
 ],
 "metadata": {
  "kernelspec": {
   "display_name": "base",
   "language": "python",
   "name": "python3"
  },
  "language_info": {
   "codemirror_mode": {
    "name": "ipython",
    "version": 3
   },
   "file_extension": ".py",
   "mimetype": "text/x-python",
   "name": "python",
   "nbconvert_exporter": "python",
   "pygments_lexer": "ipython3",
   "version": "3.12.4"
  }
 },
 "nbformat": 4,
 "nbformat_minor": 2
}
