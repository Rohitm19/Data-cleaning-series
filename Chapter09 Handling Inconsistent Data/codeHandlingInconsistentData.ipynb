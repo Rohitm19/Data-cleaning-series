{
 "cells": [
  {
   "cell_type": "markdown",
   "metadata": {},
   "source": [
    "9.1 Introduction\n",
    "Inconsistent data occurs when the same information is represented in various ways across a dataset. This inconsistency can result from different formats, varying nomenclatures, or data entry errors. Handling inconsistent data is crucial for ensuring that your dataset is uniform and reliable, enabling accurate analysis and decision-making.\n",
    "\n",
    "Definition\n",
    "Inconsistent data refers to variations in the representation of the same data points. This can include differences in formats (e.g., date formats), spelling variations, inconsistent units of measurement, or discrepancies in categorical data.\n",
    "\n",
    "Objective\n",
    "The objective of handling inconsistent data is to standardize and harmonize the data, ensuring that all entries are consistent and follow the same rules. This standardization is essential for accurate data analysis, as it eliminates confusion and reduces the risk of errors in the final results.\n",
    "\n",
    "Importance\n",
    "Inconsistent data can lead to misleading results and incorrect conclusions. By addressing these inconsistencies, you ensure that the data is accurate and consistent, which is vital for maintaining the integrity of your analyses and making informed decisions.\n",
    "\n",
    "9.2 Techniques\n",
    "1. Standardizing Text Case: Converting all text data to a uniform case (e.g., all lowercase).\n",
    "2. Uniform Date Formats: Ensuring all date entries follow the same format.\n",
    "3. Consistent Units of Measurement: Standardizing units of measurement across the dataset.\n",
    "4. Merging Similar Categories: Combining similar or synonymous categories into a single standardized category.\n",
    "5. Handling Misspellings and Variants: Correcting spelling variations or typos in categorical data."
   ]
  },
  {
   "cell_type": "markdown",
   "metadata": {},
   "source": [
    "9.2.1 Standardizing Text Case\n",
    "\n",
    "Introduction\n",
    "Text data can often have inconsistencies in letter case, where some entries are in uppercase, others in lowercase, and some in mixed case. Standardizing the text case involves converting all text entries to a uniform case, typically lowercase, to ensure consistency across the dataset."
   ]
  },
  {
   "cell_type": "code",
   "execution_count": 9,
   "metadata": {},
   "outputs": [
    {
     "name": "stdout",
     "output_type": "stream",
     "text": [
      "   Product ID     Category\n",
      "0           1  electronics\n",
      "1           2  electronics\n",
      "2           3  electronics\n",
      "3           4   home goods\n",
      "4           5   home goods\n"
     ]
    }
   ],
   "source": [
    "import pandas as pd\n",
    "\n",
    "# Sample Data\n",
    "data = {'Product ID': [1, 2, 3, 4, 5],\n",
    "        'Category': ['Electronics', 'electronics', 'ELECTRONICS', 'Home Goods', 'home goods']}\n",
    "df = pd.DataFrame(data)\n",
    "\n",
    "# Standardizing Text Case\n",
    "df['Category'] = df['Category'].str.lower()\n",
    "\n",
    "print(df)\n"
   ]
  },
  {
   "cell_type": "markdown",
   "metadata": {},
   "source": [
    "Explanation\n",
    "\n",
    "In this code, we standardize the text case of the Category column by converting all entries to lowercase. This ensures that all entries for the same category are consistent, making it easier to analyze and compare the data."
   ]
  },
  {
   "cell_type": "markdown",
   "metadata": {},
   "source": [
    "9.2.2 Uniform Date Formats\n",
    "\n",
    "Introduction\n",
    "Date formats can vary widely within a dataset, especially when data is collected from multiple sources or entered manually. Standardizing the date format ensures that all date entries follow the same format, which is essential for accurate time-based analysis."
   ]
  },
  {
   "cell_type": "code",
   "execution_count": 10,
   "metadata": {},
   "outputs": [
    {
     "name": "stdout",
     "output_type": "stream",
     "text": [
      "   Product ID  Order Date\n",
      "0           1  2023-01-15\n",
      "1           2  2023-01-15\n",
      "2           3  2023-01-15\n",
      "3           4  2023-01-15\n",
      "4           5  2023-01-15\n"
     ]
    }
   ],
   "source": [
    "import pandas as pd\n",
    "from dateutil import parser\n",
    "\n",
    "# Sample Data\n",
    "data = {'Product ID': [1, 2, 3, 4, 5],\n",
    "        'Order Date': ['2023-01-15', '15/01/2023', '01-15-2023', '2023/01/15', '15-Jan-2023']}\n",
    "df = pd.DataFrame(data)\n",
    "\n",
    "# Function to parse dates with various formats\n",
    "def parse_date(date_str):\n",
    "    try:\n",
    "        return parser.parse(date_str).strftime('%Y-%m-%d')\n",
    "    except (parser.ParserError, TypeError):\n",
    "        return None\n",
    "\n",
    "# Standardizing Date Format\n",
    "df['Order Date'] = df['Order Date'].apply(parse_date)\n",
    "\n",
    "print(df)\n"
   ]
  },
  {
   "cell_type": "markdown",
   "metadata": {},
   "source": [
    "Explanation\n",
    "\n",
    "Using dateutil.parser: This module is more flexible than pd.to_datetime and can handle a wider range of date formats.\n",
    "Function parse_date:\n",
    "The function attempts to parse each date string using parser.parse.\n",
    "If the parsing is successful, it converts the date to the YYYY-MM-DD format.\n",
    "If parsing fails (due to an unrecognized format or a None type), it returns None.\n",
    "Applying the Function: The apply method is used to apply parse_date to each entry in the Order Date column, converting and standardizing the dates."
   ]
  },
  {
   "cell_type": "markdown",
   "metadata": {},
   "source": [
    "9.2.3 Consistent Units of Measurement\n",
    "\n",
    "Introduction\n",
    "Inconsistent units of measurement can occur when data is recorded in different units (e.g., inches vs. centimeters, pounds vs. kilograms). Standardizing these units ensures that all measurements are in the same unit, making it easier to compare and analyze the data."
   ]
  },
  {
   "cell_type": "code",
   "execution_count": 11,
   "metadata": {},
   "outputs": [
    {
     "name": "stdout",
     "output_type": "stream",
     "text": [
      "   Product ID   Weight  Weight (kg)\n",
      "0           1     2 kg     2.000000\n",
      "1           2   2000 g     2.000000\n",
      "2           3  4.4 lbs     1.995805\n",
      "3           4   1000 g     1.000000\n",
      "4           5     1 kg     1.000000\n"
     ]
    }
   ],
   "source": [
    "import pandas as pd\n",
    "\n",
    "# Sample Data\n",
    "data = {'Product ID': [1, 2, 3, 4, 5],\n",
    "        'Weight': ['2 kg', '2000 g', '4.4 lbs', '1000 g', '1 kg']}\n",
    "df = pd.DataFrame(data)\n",
    "\n",
    "# Standardizing Weight to Kilograms\n",
    "def convert_to_kg(weight):\n",
    "    if 'kg' in weight:\n",
    "        return float(weight.replace(' kg', ''))\n",
    "    elif 'g' in weight:\n",
    "        return float(weight.replace(' g', '')) / 1000\n",
    "    elif 'lbs' in weight:\n",
    "        return float(weight.replace(' lbs', '')) * 0.453592\n",
    "    else:\n",
    "        return None\n",
    "\n",
    "df['Weight (kg)'] = df['Weight'].apply(convert_to_kg)\n",
    "\n",
    "print(df)"
   ]
  },
  {
   "cell_type": "markdown",
   "metadata": {},
   "source": [
    "Explanation\n",
    "\n",
    "This code converts various units of weight into a standardized unit, kilograms. The function convert_to_kg handles different formats and units, converting grams to kilograms and pounds to kilograms. The result is a new column where all weights are represented in a consistent unit."
   ]
  },
  {
   "cell_type": "markdown",
   "metadata": {},
   "source": [
    "9.2.4 Merging Similar Categories\n",
    "\n",
    "Introduction\n",
    "Datasets often contain similar or synonymous categories that should be merged into a single category for consistency. This technique involves identifying these similar categories and combining them under a unified label."
   ]
  },
  {
   "cell_type": "code",
   "execution_count": 12,
   "metadata": {},
   "outputs": [
    {
     "name": "stdout",
     "output_type": "stream",
     "text": [
      "   Product ID    Category\n",
      "0           1       Books\n",
      "1           2       Books\n",
      "2           3       Books\n",
      "3           4  Home Goods\n",
      "4           5  Home Goods\n"
     ]
    }
   ],
   "source": [
    "import pandas as pd\n",
    "\n",
    "# Sample Data\n",
    "data = {'Product ID': [1, 2, 3, 4, 5],\n",
    "        'Category': ['Books', 'Books & Literature', 'Literature', 'Home Goods', 'Home']}\n",
    "df = pd.DataFrame(data)\n",
    "\n",
    "# Merging Similar Categories\n",
    "category_mapping = {\n",
    "    'Books & Literature': 'Books',\n",
    "    'Literature': 'Books',\n",
    "    'Home': 'Home Goods'\n",
    "}\n",
    "\n",
    "df['Category'] = df['Category'].replace(category_mapping)\n",
    "\n",
    "print(df)"
   ]
  },
  {
   "cell_type": "markdown",
   "metadata": {},
   "source": [
    "Explanation\n",
    "\n",
    "In this example, we define a mapping of similar categories to their unified labels. The replace method is used to apply this mapping, merging similar categories like \"Books & Literature\" and \"Literature\" into a single category, \"Books.\" This ensures consistency in categorical data."
   ]
  },
  {
   "cell_type": "markdown",
   "metadata": {},
   "source": [
    "9.2.5 Handling Misspellings and Variants\n",
    "\n",
    "Introduction\n",
    "Misspellings and variants of categorical data entries can lead to inconsistencies. This technique involves identifying and correcting these spelling variations to ensure uniformity across the dataset."
   ]
  },
  {
   "cell_type": "code",
   "execution_count": 13,
   "metadata": {},
   "outputs": [
    {
     "name": "stdout",
     "output_type": "stream",
     "text": [
      "   Product ID     Category\n",
      "0           1  Electronics\n",
      "1           2  Electronics\n",
      "2           3  Electronics\n",
      "3           4   Home Goods\n",
      "4           5   Home Goods\n"
     ]
    }
   ],
   "source": [
    "import pandas as pd\n",
    "\n",
    "# Sample Data\n",
    "data = {'Product ID': [1, 2, 3, 4, 5],\n",
    "        'Category': ['Electronics', 'Eletronics', 'Electronics', 'Home Goods', 'Home Godds']}\n",
    "df = pd.DataFrame(data)\n",
    "\n",
    "# Correcting Misspellings\n",
    "spelling_corrections = {\n",
    "    'Eletronics': 'Electronics',\n",
    "    'Home Godds': 'Home Goods'\n",
    "}\n",
    "\n",
    "df['Category'] = df['Category'].replace(spelling_corrections)\n",
    "\n",
    "print(df)"
   ]
  },
  {
   "cell_type": "markdown",
   "metadata": {},
   "source": [
    "Explanation\n",
    "\n",
    "Here, we correct misspellings in the Category column by defining a dictionary of common misspellings and their correct forms. The replace method is used to apply these corrections, ensuring that all entries are spelled correctly and consistently."
   ]
  }
 ],
 "metadata": {
  "kernelspec": {
   "display_name": "base",
   "language": "python",
   "name": "python3"
  },
  "language_info": {
   "codemirror_mode": {
    "name": "ipython",
    "version": 3
   },
   "file_extension": ".py",
   "mimetype": "text/x-python",
   "name": "python",
   "nbconvert_exporter": "python",
   "pygments_lexer": "ipython3",
   "version": "3.12.4"
  }
 },
 "nbformat": 4,
 "nbformat_minor": 2
}
