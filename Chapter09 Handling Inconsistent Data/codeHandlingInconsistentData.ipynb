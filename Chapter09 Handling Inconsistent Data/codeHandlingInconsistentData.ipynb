{
 "cells": [
  {
   "cell_type": "markdown",
   "metadata": {},
   "source": [
    "9.1 Introduction to Handling Inconsistent Data\n",
    "\n",
    "Inconsistent data is a common problem that arises when data entries lack uniformity or coherence, often due to varying data formats, naming conventions, or data entry practices. These inconsistencies can lead to significant challenges in data analysis, making it difficult to aggregate, compare, or derive meaningful insights from the data. Handling inconsistent data is an essential step in the data cleaning process, aimed at standardizing and harmonizing the dataset to ensure it is ready for accurate analysis.\n",
    "\n",
    "In the context of data management, inconsistency can manifest in various forms, such as different date formats, variations in categorical data (e.g., \"NY\" vs. \"New York\"), or differences in numerical representations (e.g., \"1000\" vs. \"1,000\"). Without addressing these inconsistencies, analyses may yield incorrect or misleading results, leading to poor decision-making. Therefore, it is crucial to identify and rectify these inconsistencies to maintain the integrity and usability of the data.\n",
    "\n",
    "Definition\n",
    "\n",
    "Inconsistent Data refers to data that lacks uniformity or coherence across a dataset. This can occur due to differences in data formats, units of measurement, naming conventions, or other factors that lead to variations in how data is recorded and represented.\n",
    "\n",
    "Common types of inconsistencies include:\n",
    "\n",
    "1. Format Inconsistencies: Variations in how data is formatted, such as different date or time formats.\n",
    "2. Naming Inconsistencies: Differences in how similar entities are named, such as \"USA\" vs. \"United States.\"\n",
    "3. Unit Inconsistencies: Discrepancies in units of measurement, such as \"kg\" vs. \"lbs.\"\n",
    "4. Categorical Inconsistencies: Variations in categorical data, such as \"Male\" vs. \"M\" vs. \"man.\"\n",
    "5. Numerical Inconsistencies: Differences in how numbers are represented, such as \"1,000\" vs. \"1000.\"\n",
    "\n",
    "Objective\n",
    "\n",
    "The primary objective of handling inconsistent data is to ensure that all entries in the dataset are standardized and consistent, facilitating accurate analysis and interpretation. By addressing inconsistencies, we aim to:\n",
    "\n",
    "1. Standardize Data: Ensure uniformity in how data is recorded and represented across the dataset.\n",
    "2. Improve Data Quality: Enhance the overall quality and reliability of the data by eliminating inconsistencies.\n",
    "3. Facilitate Accurate Analysis: Enable accurate comparisons, aggregations, and analyses by standardizing the data.\n",
    "4. Ensure Data Integrity: Maintain the integrity of the dataset by resolving inconsistencies that could lead to errors or biases in analysis.\n",
    "\n",
    "Importance\n",
    "\n",
    "Handling inconsistent data is crucial for several reasons:\n",
    "\n",
    "1. Data Accuracy: Consistent data is essential for ensuring the accuracy and validity of analysis and decision-making.\n",
    "2. Improved Comparability: Standardized data allows for meaningful comparisons across different parts of the dataset.\n",
    "3. Enhanced Data Usability: Consistent data is easier to work with, enabling more efficient and effective data processing and analysis.\n",
    "4. Prevention of Analytical Errors: Inconsistencies can lead to incorrect conclusions or insights, so addressing them helps prevent analytical errors.\n",
    "5. Support for Automated Processes: Consistent data is critical for the success of automated data processing systems, which rely on uniform data formats and structures.\n",
    "\n",
    "9.2 Techniques\n",
    "1. Standardizing Text Case: Converting all text data to a uniform case (e.g., all lowercase).\n",
    "2. Uniform Date Formats: Ensuring all date entries follow the same format.\n",
    "3. Consistent Units of Measurement: Standardizing units of measurement across the dataset.\n",
    "4. Merging Similar Categories: Combining similar or synonymous categories into a single standardized category.\n",
    "5. Handling Misspellings and Variants: Correcting spelling variations or typos in categorical data."
   ]
  },
  {
   "cell_type": "markdown",
   "metadata": {},
   "source": [
    "9.2.1 Standardizing Text Case\n",
    "\n",
    "Text data can often have inconsistencies in letter case, where some entries are in uppercase, others in lowercase, and some in mixed case. Standardizing the text case involves converting all text entries to a uniform case, typically lowercase, to ensure consistency across the dataset."
   ]
  },
  {
   "cell_type": "code",
   "execution_count": 6,
   "metadata": {},
   "outputs": [
    {
     "name": "stdout",
     "output_type": "stream",
     "text": [
      "   Product ID     Category\n",
      "0           1  electronics\n",
      "1           2  electronics\n",
      "2           3  electronics\n",
      "3           4   home goods\n",
      "4           5   home goods\n"
     ]
    }
   ],
   "source": [
    "import pandas as pd\n",
    "\n",
    "# Sample Data\n",
    "data = {'Product ID': [1, 2, 3, 4, 5],\n",
    "        'Category': ['Electronics', 'electronics', 'ELECTRONICS', 'Home Goods', 'home goods']}\n",
    "df = pd.DataFrame(data)\n",
    "\n",
    "# Standardizing Text Case\n",
    "df['Category'] = df['Category'].str.lower()\n",
    "\n",
    "print(df)\n"
   ]
  },
  {
   "cell_type": "markdown",
   "metadata": {},
   "source": [
    "Explanation\n",
    "\n",
    "In this code, we standardize the text case of the Category column by converting all entries to lowercase. This ensures that all entries for the same category are consistent, making it easier to analyze and compare the data."
   ]
  },
  {
   "cell_type": "markdown",
   "metadata": {},
   "source": [
    "9.2.2 Uniform Date Formats\n",
    "\n",
    "Date formats can vary widely within a dataset, especially when data is collected from multiple sources or entered manually. Standardizing the date format ensures that all date entries follow the same format, which is essential for accurate time-based analysis."
   ]
  },
  {
   "cell_type": "code",
   "execution_count": 7,
   "metadata": {},
   "outputs": [
    {
     "name": "stdout",
     "output_type": "stream",
     "text": [
      "   Product ID  Order Date\n",
      "0           1  2023-01-15\n",
      "1           2  2023-01-15\n",
      "2           3  2023-01-15\n",
      "3           4  2023-01-15\n",
      "4           5  2023-01-15\n"
     ]
    }
   ],
   "source": [
    "import pandas as pd\n",
    "from dateutil import parser\n",
    "\n",
    "# Sample Data\n",
    "data = {'Product ID': [1, 2, 3, 4, 5],\n",
    "        'Order Date': ['2023-01-15', '15/01/2023', '01-15-2023', '2023/01/15', '15-Jan-2023']}\n",
    "df = pd.DataFrame(data)\n",
    "\n",
    "# Function to parse dates with various formats\n",
    "def parse_date(date_str):\n",
    "    try:\n",
    "        return parser.parse(date_str).strftime('%Y-%m-%d')\n",
    "    except (parser.ParserError, TypeError):\n",
    "        return None\n",
    "\n",
    "# Standardizing Date Format\n",
    "df['Order Date'] = df['Order Date'].apply(parse_date)\n",
    "\n",
    "print(df)\n"
   ]
  },
  {
   "cell_type": "markdown",
   "metadata": {},
   "source": [
    "Explanation\n",
    "\n",
    "Using dateutil.parser: This module is more flexible than pd.to_datetime and can handle a wider range of date formats.\n",
    "Function parse_date:\n",
    "The function attempts to parse each date string using parser.parse.\n",
    "If the parsing is successful, it converts the date to the YYYY-MM-DD format.\n",
    "If parsing fails (due to an unrecognized format or a None type), it returns None.\n",
    "Applying the Function: The apply method is used to apply parse_date to each entry in the Order Date column, converting and standardizing the dates."
   ]
  },
  {
   "cell_type": "markdown",
   "metadata": {},
   "source": [
    "9.2.3 Consistent Units of Measurement\n",
    "\n",
    "Inconsistent units of measurement can occur when data is recorded in different units (e.g., inches vs. centimeters, pounds vs. kilograms). Standardizing these units ensures that all measurements are in the same unit, making it easier to compare and analyze the data."
   ]
  },
  {
   "cell_type": "code",
   "execution_count": 8,
   "metadata": {},
   "outputs": [
    {
     "name": "stdout",
     "output_type": "stream",
     "text": [
      "   Product ID   Weight  Weight (kg)\n",
      "0           1     2 kg     2.000000\n",
      "1           2   2000 g     2.000000\n",
      "2           3  4.4 lbs     1.995805\n",
      "3           4   1000 g     1.000000\n",
      "4           5     1 kg     1.000000\n"
     ]
    }
   ],
   "source": [
    "import pandas as pd\n",
    "\n",
    "# Sample Data\n",
    "data = {'Product ID': [1, 2, 3, 4, 5],\n",
    "        'Weight': ['2 kg', '2000 g', '4.4 lbs', '1000 g', '1 kg']}\n",
    "df = pd.DataFrame(data)\n",
    "\n",
    "# Standardizing Weight to Kilograms\n",
    "def convert_to_kg(weight):\n",
    "    if 'kg' in weight:\n",
    "        return float(weight.replace(' kg', ''))\n",
    "    elif 'g' in weight:\n",
    "        return float(weight.replace(' g', '')) / 1000\n",
    "    elif 'lbs' in weight:\n",
    "        return float(weight.replace(' lbs', '')) * 0.453592\n",
    "    else:\n",
    "        return None\n",
    "\n",
    "df['Weight (kg)'] = df['Weight'].apply(convert_to_kg)\n",
    "\n",
    "print(df)"
   ]
  },
  {
   "cell_type": "markdown",
   "metadata": {},
   "source": [
    "Explanation\n",
    "\n",
    "This code converts various units of weight into a standardized unit, kilograms. The function convert_to_kg handles different formats and units, converting grams to kilograms and pounds to kilograms. The result is a new column where all weights are represented in a consistent unit."
   ]
  },
  {
   "cell_type": "markdown",
   "metadata": {},
   "source": [
    "9.2.4 Merging Similar Categories\n",
    "\n",
    "Datasets often contain similar or synonymous categories that should be merged into a single category for consistency. This technique involves identifying these similar categories and combining them under a unified label."
   ]
  },
  {
   "cell_type": "code",
   "execution_count": 9,
   "metadata": {},
   "outputs": [
    {
     "name": "stdout",
     "output_type": "stream",
     "text": [
      "   Product ID    Category\n",
      "0           1       Books\n",
      "1           2       Books\n",
      "2           3       Books\n",
      "3           4  Home Goods\n",
      "4           5  Home Goods\n"
     ]
    }
   ],
   "source": [
    "import pandas as pd\n",
    "\n",
    "# Sample Data\n",
    "data = {'Product ID': [1, 2, 3, 4, 5],\n",
    "        'Category': ['Books', 'Books & Literature', 'Literature', 'Home Goods', 'Home']}\n",
    "df = pd.DataFrame(data)\n",
    "\n",
    "# Merging Similar Categories\n",
    "category_mapping = {\n",
    "    'Books & Literature': 'Books',\n",
    "    'Literature': 'Books',\n",
    "    'Home': 'Home Goods'\n",
    "}\n",
    "\n",
    "df['Category'] = df['Category'].replace(category_mapping)\n",
    "\n",
    "print(df)"
   ]
  },
  {
   "cell_type": "markdown",
   "metadata": {},
   "source": [
    "Explanation\n",
    "\n",
    "In this example, we define a mapping of similar categories to their unified labels. The replace method is used to apply this mapping, merging similar categories like \"Books & Literature\" and \"Literature\" into a single category, \"Books.\" This ensures consistency in categorical data."
   ]
  },
  {
   "cell_type": "markdown",
   "metadata": {},
   "source": [
    "9.2.5 Handling Misspellings and Variants\n",
    "\n",
    "Misspellings and variants of categorical data entries can lead to inconsistencies. This technique involves identifying and correcting these spelling variations to ensure uniformity across the dataset."
   ]
  },
  {
   "cell_type": "code",
   "execution_count": 10,
   "metadata": {},
   "outputs": [
    {
     "name": "stdout",
     "output_type": "stream",
     "text": [
      "   Product ID     Category\n",
      "0           1  Electronics\n",
      "1           2  Electronics\n",
      "2           3  Electronics\n",
      "3           4   Home Goods\n",
      "4           5   Home Goods\n"
     ]
    }
   ],
   "source": [
    "import pandas as pd\n",
    "\n",
    "# Sample Data\n",
    "data = {'Product ID': [1, 2, 3, 4, 5],\n",
    "        'Category': ['Electronics', 'Eletronics', 'Electronics', 'Home Goods', 'Home Godds']}\n",
    "df = pd.DataFrame(data)\n",
    "\n",
    "# Correcting Misspellings\n",
    "spelling_corrections = {\n",
    "    'Eletronics': 'Electronics',\n",
    "    'Home Godds': 'Home Goods'\n",
    "}\n",
    "\n",
    "df['Category'] = df['Category'].replace(spelling_corrections)\n",
    "\n",
    "print(df)"
   ]
  },
  {
   "cell_type": "markdown",
   "metadata": {},
   "source": [
    "Explanation\n",
    "\n",
    "Here, we correct misspellings in the Category column by defining a dictionary of common misspellings and their correct forms. The replace method is used to apply these corrections, ensuring that all entries are spelled correctly and consistently."
   ]
  }
 ],
 "metadata": {
  "kernelspec": {
   "display_name": "base",
   "language": "python",
   "name": "python3"
  },
  "language_info": {
   "codemirror_mode": {
    "name": "ipython",
    "version": 3
   },
   "file_extension": ".py",
   "mimetype": "text/x-python",
   "name": "python",
   "nbconvert_exporter": "python",
   "pygments_lexer": "ipython3",
   "version": "3.12.4"
  }
 },
 "nbformat": 4,
 "nbformat_minor": 2
}
