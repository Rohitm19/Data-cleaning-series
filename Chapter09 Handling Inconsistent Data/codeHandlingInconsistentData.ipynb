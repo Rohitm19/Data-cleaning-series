{
 "cells": [
  {
   "cell_type": "markdown",
   "metadata": {},
   "source": [
    "9.1 Introduction\n",
    "Inconsistent data occurs when the same information is represented in various ways across a dataset. This inconsistency can result from different formats, varying nomenclatures, or data entry errors. Handling inconsistent data is crucial for ensuring that your dataset is uniform and reliable, enabling accurate analysis and decision-making.\n",
    "\n",
    "Definition\n",
    "Inconsistent data refers to variations in the representation of the same data points. This can include differences in formats (e.g., date formats), spelling variations, inconsistent units of measurement, or discrepancies in categorical data.\n",
    "\n",
    "Objective\n",
    "The objective of handling inconsistent data is to standardize and harmonize the data, ensuring that all entries are consistent and follow the same rules. This standardization is essential for accurate data analysis, as it eliminates confusion and reduces the risk of errors in the final results.\n",
    "\n",
    "Importance\n",
    "Inconsistent data can lead to misleading results and incorrect conclusions. By addressing these inconsistencies, you ensure that the data is accurate and consistent, which is vital for maintaining the integrity of your analyses and making informed decisions.\n",
    "\n",
    "9.2 Techniques\n",
    "1. Standardizing Text Case: Converting all text data to a uniform case (e.g., all lowercase).\n",
    "2. Uniform Date Formats: Ensuring all date entries follow the same format.\n",
    "3. Consistent Units of Measurement: Standardizing units of measurement across the dataset.\n",
    "4. Merging Similar Categories: Combining similar or synonymous categories into a single standardized category.\n",
    "5. Handling Misspellings and Variants: Correcting spelling variations or typos in categorical data."
   ]
  },
  {
   "cell_type": "markdown",
   "metadata": {},
   "source": [
    "9.2.1 Standardizing Text Case\n",
    "\n",
    "Introduction\n",
    "Text data can often have inconsistencies in letter case, where some entries are in uppercase, others in lowercase, and some in mixed case. Standardizing the text case involves converting all text entries to a uniform case, typically lowercase, to ensure consistency across the dataset."
   ]
  },
  {
   "cell_type": "code",
   "execution_count": 1,
   "metadata": {},
   "outputs": [
    {
     "name": "stdout",
     "output_type": "stream",
     "text": [
      "   Product ID     Category\n",
      "0           1  electronics\n",
      "1           2  electronics\n",
      "2           3  electronics\n",
      "3           4   home goods\n",
      "4           5   home goods\n"
     ]
    }
   ],
   "source": [
    "import pandas as pd\n",
    "\n",
    "# Sample Data\n",
    "data = {'Product ID': [1, 2, 3, 4, 5],\n",
    "        'Category': ['Electronics', 'electronics', 'ELECTRONICS', 'Home Goods', 'home goods']}\n",
    "df = pd.DataFrame(data)\n",
    "\n",
    "# Standardizing Text Case\n",
    "df['Category'] = df['Category'].str.lower()\n",
    "\n",
    "print(df)\n"
   ]
  },
  {
   "cell_type": "markdown",
   "metadata": {},
   "source": [
    "Explanation\n",
    "\n",
    "In this code, we standardize the text case of the Category column by converting all entries to lowercase. This ensures that all entries for the same category are consistent, making it easier to analyze and compare the data."
   ]
  }
 ],
 "metadata": {
  "kernelspec": {
   "display_name": "base",
   "language": "python",
   "name": "python3"
  },
  "language_info": {
   "codemirror_mode": {
    "name": "ipython",
    "version": 3
   },
   "file_extension": ".py",
   "mimetype": "text/x-python",
   "name": "python",
   "nbconvert_exporter": "python",
   "pygments_lexer": "ipython3",
   "version": "3.12.4"
  }
 },
 "nbformat": 4,
 "nbformat_minor": 2
}
