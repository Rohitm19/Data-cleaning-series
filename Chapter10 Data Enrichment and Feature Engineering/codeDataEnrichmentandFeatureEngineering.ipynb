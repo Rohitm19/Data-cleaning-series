{
 "cells": [
  {
   "cell_type": "markdown",
   "metadata": {},
   "source": [
    "10.1 Data Enrichment and Feature Engineering\n",
    "\n",
    "Introduction\n",
    "Data enrichment and feature engineering involve enhancing the quality and depth of data by adding new information or deriving new features from existing data. This process helps improve the performance of machine learning models by providing them with more meaningful inputs.\n",
    "\n",
    "Definition\n",
    "Data Enrichment: The process of augmenting existing data by adding new information from external sources or through calculated metrics.\n",
    "Feature Engineering: The practice of transforming raw data into features that better represent the underlying problem to the predictive models.\n",
    "\n",
    "Objective\n",
    "The main objective is to create more informative features that can capture the relationships and patterns within the data, ultimately leading to better model performance.\n",
    "\n",
    "Importance\n",
    "Feature engineering and data enrichment are critical for improving the accuracy and robustness of machine learning models. By generating relevant features, you can provide the model with the necessary inputs to make more informed predictions.\n",
    "\n",
    "10.2 Techniques List and Definitions\n",
    "1. Creating Interaction Features: Combining two or more features to capture the interaction between them.\n",
    "2. Adding External Data: Enriching the dataset with external sources, such as demographic information, weather data, or economic indicators.\n",
    "3. Aggregating Features: Summarizing data through aggregations like mean, sum, or count based on different categories or time periods.\n",
    "4. Creating Lag Features: Creating features based on previous time steps in time series data.\n",
    "5. Calculating Rolling Statistics: Using moving averages, sums, or other statistics calculated over a rolling window.\n",
    "6. Binning Continuous Variables: Converting continuous variables into categorical bins to capture non-linear relationships.\n",
    "7. Polynomial Feature Creation: Generating polynomial features to capture non-linear relationships between variables.\n",
    "8. Text Feature Extraction: Extracting meaningful features from text data, such as word counts or sentiment scores.\n",
    "9. Encoding Cyclical Features: Encoding cyclical features, such as time or geographic data, to capture periodicity.\n",
    "10. Dimensionality Reduction Techniques: Using techniques like PCA to reduce the number of features while retaining essential information."
   ]
  },
  {
   "cell_type": "markdown",
   "metadata": {},
   "source": [
    "10.2.1 Creating Interaction Features\n",
    "\n",
    "Introduction\n",
    "Interaction features capture the combined effect of two or more features, which may not be apparent when considering the features individually."
   ]
  },
  {
   "cell_type": "code",
   "execution_count": 1,
   "metadata": {},
   "outputs": [
    {
     "name": "stdout",
     "output_type": "stream",
     "text": [
      "   Feature1  Feature2  Feature1_Feature2_Interaction\n",
      "0        10         1                             10\n",
      "1        20         2                             40\n",
      "2        30         3                             90\n",
      "3        40         4                            160\n",
      "4        50         5                            250\n"
     ]
    }
   ],
   "source": [
    "import pandas as pd\n",
    "\n",
    "# Sample Data\n",
    "data = {\n",
    "    'Feature1': [10, 20, 30, 40, 50],\n",
    "    'Feature2': [1, 2, 3, 4, 5]\n",
    "}\n",
    "df = pd.DataFrame(data)\n",
    "\n",
    "# Creating Interaction Feature\n",
    "df['Feature1_Feature2_Interaction'] = df['Feature1'] * df['Feature2']\n",
    "\n",
    "print(df)\n"
   ]
  },
  {
   "cell_type": "markdown",
   "metadata": {},
   "source": [
    "Explanation\n",
    "\n",
    "Interaction Feature: The new feature, Feature1_Feature2_Interaction, is created by multiplying Feature1 and Feature2.\n",
    "Purpose: This feature may capture interactions that are important for predicting the target variable, improving model accuracy."
   ]
  }
 ],
 "metadata": {
  "kernelspec": {
   "display_name": "base",
   "language": "python",
   "name": "python3"
  },
  "language_info": {
   "codemirror_mode": {
    "name": "ipython",
    "version": 3
   },
   "file_extension": ".py",
   "mimetype": "text/x-python",
   "name": "python",
   "nbconvert_exporter": "python",
   "pygments_lexer": "ipython3",
   "version": "3.12.4"
  }
 },
 "nbformat": 4,
 "nbformat_minor": 2
}
